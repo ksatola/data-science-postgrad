{
 "cells": [
  {
   "cell_type": "code",
   "execution_count": 1,
   "metadata": {},
   "outputs": [],
   "source": [
    "from openpyxl import load_workbook\n",
    "from openpyxl import Workbook\n",
    "import numpy as np\n",
    "import os"
   ]
  },
  {
   "cell_type": "code",
   "execution_count": 2,
   "metadata": {},
   "outputs": [
    {
     "name": "stdout",
     "output_type": "stream",
     "text": [
      "['Matematyka', 'Informatyka', 'Język angielski']\n"
     ]
    }
   ],
   "source": [
    "wb = load_workbook('oceny.xlsx')\n",
    "sheetnames = wb.sheetnames\n",
    "print(sheetnames)"
   ]
  },
  {
   "cell_type": "code",
   "execution_count": 3,
   "metadata": {},
   "outputs": [
    {
     "data": {
      "text/plain": [
       "0"
      ]
     },
     "execution_count": 3,
     "metadata": {},
     "output_type": "execute_result"
    }
   ],
   "source": [
    "os.system(\"open oceny.xlsx\")"
   ]
  },
  {
   "cell_type": "markdown",
   "metadata": {},
   "source": [
    "1. Implementacja funkcji `calculateAverageForSubject(subject)` wyliczającej średnią ocen dla danego przedmiotu."
   ]
  },
  {
   "cell_type": "code",
   "execution_count": 4,
   "metadata": {},
   "outputs": [],
   "source": [
    "def calculateAverageForSubject(sheetnames):\n",
    "    for sheetname in sheetnames:\n",
    "        sheet = wb[sheetname]\n",
    "        list_rating = []\n",
    "        for row in sheet.iter_rows():\n",
    "            name = row[0].value \n",
    "            rating = row[1].value\n",
    "            list_rating.append(rating)\n",
    "        print(sheetname, ' srednia: ', round(np.mean(list_rating), 2))"
   ]
  },
  {
   "cell_type": "code",
   "execution_count": 5,
   "metadata": {},
   "outputs": [
    {
     "name": "stdout",
     "output_type": "stream",
     "text": [
      "Matematyka  srednia:  3.96\n"
     ]
    }
   ],
   "source": [
    "#sheetnames = ['Matematyka']\n",
    "#sheetnames = wb.sheetnames\n",
    "#calculateAverageForSubject(sheetnames)\n",
    "calculateAverageForSubject(['Matematyka'])"
   ]
  },
  {
   "cell_type": "markdown",
   "metadata": {},
   "source": [
    "2. Implementacja funkcji `calculateAverageForStudent(student)` wyliczającej średnią ocen ze wszystkich przedmiotów dla danego studenta."
   ]
  },
  {
   "cell_type": "code",
   "execution_count": 6,
   "metadata": {},
   "outputs": [],
   "source": [
    "def calculateAverageForAllSubjects():\n",
    "    rating_list = []\n",
    "    for sheetname in sheetnames:\n",
    "        sheet = wb[sheetname]\n",
    "        for row in sheet.iter_rows():\n",
    "            name = row[0].value\n",
    "            rating = row[1].value\n",
    "            rating_list.append(rating)\n",
    "    print('Srednia z dostepnych przedmiotow: ', round(np.mean(rating_list), 2))"
   ]
  },
  {
   "cell_type": "code",
   "execution_count": 7,
   "metadata": {},
   "outputs": [
    {
     "name": "stdout",
     "output_type": "stream",
     "text": [
      "Srednia z dostepnych przedmiotow:  3.88\n"
     ]
    }
   ],
   "source": [
    "calculateAverageForAllSubjects()"
   ]
  },
  {
   "cell_type": "markdown",
   "metadata": {},
   "source": [
    "3. Implementacja funkcji `generateStudentRankingForSubject(subject)` wyliczającej ranking uczniów w danym przedmiocie. Ranking oczywiście ma być wyznaczany na podstawie ocen, najwyższe oceny na początku"
   ]
  },
  {
   "cell_type": "code",
   "execution_count": 8,
   "metadata": {},
   "outputs": [],
   "source": [
    "def generateStudentRankingForSubject(sheetname):\n",
    "    ratings_final = []\n",
    "    if sheetname in sheetnames:\n",
    "        ratings_temp = {}\n",
    "        sheet = wb[sheetname]\n",
    "        list_rating = []\n",
    "\n",
    "        for row in sheet.iter_rows():\n",
    "            name = row[0].value \n",
    "            rating = row[1].value\n",
    "            list_rating.append(rating)\n",
    "            ratings_temp[name] = rating\n",
    "\n",
    "        ratings_final = sorted(ratings_temp.items(), key=lambda kv: kv[1], reverse=True)\n",
    "        #print('Ranking dla ' , sheetname)\n",
    "    else:\n",
    "        print(\"Nie ma takiego arkusza\")\n",
    "    return ratings_final"
   ]
  },
  {
   "cell_type": "code",
   "execution_count": 9,
   "metadata": {},
   "outputs": [
    {
     "data": {
      "text/plain": [
       "[('Barbara Piekarska', 5),\n",
       " ('Franciszek Terczyński', 5),\n",
       " ('Aneta Łakon', 4.5),\n",
       " ('Izabela Nowak', 4),\n",
       " ('Jan Kowalski', 4),\n",
       " ('Albert Nowakowski', 4),\n",
       " ('Piotr Mącisz', 3.5),\n",
       " ('Onufry Nowak', 3.5),\n",
       " ('Agnieszka Biewarska', 3),\n",
       " ('Romuald Tęcza', 3),\n",
       " ('Jacek Pieniążek', 2),\n",
       " ('Katarzyna Pekuła', 2)]"
      ]
     },
     "execution_count": 9,
     "metadata": {},
     "output_type": "execute_result"
    }
   ],
   "source": [
    "generateStudentRankingForSubject('Informatyka')\n",
    "#generateStudentRankingForSubject('Biologia')"
   ]
  },
  {
   "cell_type": "code",
   "execution_count": null,
   "metadata": {},
   "outputs": [],
   "source": []
  }
 ],
 "metadata": {
  "kernelspec": {
   "display_name": "Python 3",
   "language": "python",
   "name": "python3"
  },
  "language_info": {
   "codemirror_mode": {
    "name": "ipython",
    "version": 3
   },
   "file_extension": ".py",
   "mimetype": "text/x-python",
   "name": "python",
   "nbconvert_exporter": "python",
   "pygments_lexer": "ipython3",
   "version": "3.7.1"
  }
 },
 "nbformat": 4,
 "nbformat_minor": 4
}
