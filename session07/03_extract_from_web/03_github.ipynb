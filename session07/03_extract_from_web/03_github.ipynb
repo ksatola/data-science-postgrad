{
 "cells": [
  {
   "cell_type": "code",
   "execution_count": null,
   "metadata": {},
   "outputs": [],
   "source": []
  },
  {
   "cell_type": "code",
   "execution_count": 1,
   "metadata": {},
   "outputs": [],
   "source": [
    "import json\n",
    "import requests"
   ]
  },
  {
   "cell_type": "markdown",
   "metadata": {},
   "source": [
    "# Zadanie\n",
    "\n",
    "Zbuduj ranking języków programowania wg ilosci projektów w serwisie Github.\n",
    "Wykorzystaj następującą listę języków\n",
    "```\n",
    "languages = {\"Java\", \"C\", \"C++\", \"C#\", \"Javascript\", \"Python\", \"PHP\", \"Go\"}\n",
    "```\n",
    "Listę dostępnych w serwisie języków programowania można pobrać z API poleceniem:\n",
    "https://api.github.com/languages"
   ]
  },
  {
   "cell_type": "raw",
   "metadata": {},
   "source": [
    "wszystkie projekty w Java\n",
    "https://api.github.com/search/repositories?q=language:java\n",
    "\n",
    "https://api.github.com/search/repositories?q=language:assembly&sort=stars&order=desc"
   ]
  },
  {
   "cell_type": "code",
   "execution_count": 4,
   "metadata": {},
   "outputs": [],
   "source": [
    "response = requests.get(\"https://api.github.com/search/repositories?q=language:java\")\n",
    "java = json.loads(response.text)"
   ]
  },
  {
   "cell_type": "code",
   "execution_count": 5,
   "metadata": {},
   "outputs": [
    {
     "data": {
      "text/plain": [
       "7321146"
      ]
     },
     "execution_count": 5,
     "metadata": {},
     "output_type": "execute_result"
    }
   ],
   "source": [
    "java['total_count']"
   ]
  },
  {
   "cell_type": "code",
   "execution_count": 6,
   "metadata": {},
   "outputs": [],
   "source": [
    "languages = {\"Java\", \"C\", \"C++\", \"C#\", \"Javascript\", \"Python\", \"PHP\", \"Go\"}"
   ]
  },
  {
   "cell_type": "code",
   "execution_count": 11,
   "metadata": {},
   "outputs": [
    {
     "name": "stdout",
     "output_type": "stream",
     "text": [
      "Javascript\n",
      "PHP\n",
      "Go\n",
      "C#\n",
      "C\n",
      "Java\n",
      "C++\n",
      "Python\n"
     ]
    }
   ],
   "source": [
    "results = {}\n",
    "for key in languages:\n",
    "    print(key)\n",
    "    response = requests.get(\"https://api.github.com/search/repositories?q=language:\"+key)\n",
    "    results[key] = json.loads(response.text)['total_count']"
   ]
  },
  {
   "cell_type": "code",
   "execution_count": 12,
   "metadata": {},
   "outputs": [
    {
     "data": {
      "text/plain": [
       "{'Javascript': 9151289,\n",
       " 'PHP': 2344459,\n",
       " 'Go': 554912,\n",
       " 'C#': 1334140,\n",
       " 'C': 1334138,\n",
       " 'Java': 7239818,\n",
       " 'C++': 1334140,\n",
       " 'Python': 4765737}"
      ]
     },
     "execution_count": 12,
     "metadata": {},
     "output_type": "execute_result"
    }
   ],
   "source": [
    "results"
   ]
  },
  {
   "cell_type": "code",
   "execution_count": 14,
   "metadata": {},
   "outputs": [
    {
     "data": {
      "text/plain": [
       "{'Javascript': 9151289,\n",
       " 'Java': 7239818,\n",
       " 'Python': 4765737,\n",
       " 'PHP': 2344459,\n",
       " 'C#': 1334140,\n",
       " 'C++': 1334140,\n",
       " 'C': 1334138,\n",
       " 'Go': 554912}"
      ]
     },
     "execution_count": 14,
     "metadata": {},
     "output_type": "execute_result"
    }
   ],
   "source": [
    "{k: v for k, v in sorted(results.items(), key=lambda item: item[1], reverse=True)}"
   ]
  },
  {
   "cell_type": "code",
   "execution_count": 19,
   "metadata": {},
   "outputs": [
    {
     "data": {
      "text/plain": [
       "OrderedDict([('Javascript', 9151289),\n",
       "             ('Java', 7239818),\n",
       "             ('Python', 4765737),\n",
       "             ('PHP', 2344459),\n",
       "             ('C#', 1334140),\n",
       "             ('C++', 1334140),\n",
       "             ('C', 1334138),\n",
       "             ('Go', 554912)])"
      ]
     },
     "execution_count": 19,
     "metadata": {},
     "output_type": "execute_result"
    }
   ],
   "source": [
    "import collections\n",
    "\n",
    "sorted_dict = collections.OrderedDict(sorted(results.items(), key=lambda item: item[1], reverse=True))\n",
    "sorted_dict"
   ]
  },
  {
   "cell_type": "code",
   "execution_count": null,
   "metadata": {},
   "outputs": [],
   "source": []
  }
 ],
 "metadata": {
  "kernelspec": {
   "display_name": "Python 3",
   "language": "python",
   "name": "python3"
  },
  "language_info": {
   "codemirror_mode": {
    "name": "ipython",
    "version": 3
   },
   "file_extension": ".py",
   "mimetype": "text/x-python",
   "name": "python",
   "nbconvert_exporter": "python",
   "pygments_lexer": "ipython3",
   "version": "3.7.1"
  }
 },
 "nbformat": 4,
 "nbformat_minor": 4
}
