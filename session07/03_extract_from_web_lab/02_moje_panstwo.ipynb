{
 "cells": [
  {
   "cell_type": "code",
   "execution_count": null,
   "metadata": {},
   "outputs": [],
   "source": []
  },
  {
   "cell_type": "code",
   "execution_count": 1,
   "metadata": {},
   "outputs": [],
   "source": [
    "import json\n",
    "import requests"
   ]
  },
  {
   "cell_type": "raw",
   "metadata": {},
   "source": [
    "poslowie 8 kadencji:\n",
    "https://api-v3.mojepanstwo.pl/dane/poslowie.json?conditions[poslowie.kadencja]=8\n",
    "\n",
    "dane posla:\n",
    "https://api-v3.mojepanstwo.pl/dane/poslowie/{$id}.json"
   ]
  },
  {
   "cell_type": "markdown",
   "metadata": {},
   "source": [
    "# Zadanie\n",
    "\n",
    "Korzystając z tego serwisu napisz funkcję\n",
    "```\n",
    "def printLazyPolitics(absentVotingsLimit):\n",
    "    # ... implementation here\n",
    "\n",
    "printLazyPolitics(1000)\n",
    "```\n",
    "która przyjmie parametr limitu opuszczonych głosowań i wypisze na ekran posłów wraz z liczbą opuszczonych głosowań np.:\n",
    "```\n",
    "Jan Kowalski nieobecny/a na 1001 głosowaniach\n",
    "Piotr Nowak nieobecny/a na 1142 głosowaniach\n",
    "Zofia Jędrysek nieobecny/a na 1050 głosowaniach\n",
    "```"
   ]
  },
  {
   "cell_type": "code",
   "execution_count": 2,
   "metadata": {},
   "outputs": [],
   "source": [
    "response = requests.get(\"https://api-v3.mojepanstwo.pl/dane/poslowie.json?conditions[poslowie.kadencja]=8\")\n",
    "p = json.loads(response.text)"
   ]
  },
  {
   "cell_type": "code",
   "execution_count": 10,
   "metadata": {},
   "outputs": [
    {
     "data": {
      "text/plain": [
       "'Wojciech Wilk'"
      ]
     },
     "execution_count": 10,
     "metadata": {},
     "output_type": "execute_result"
    }
   ],
   "source": [
    "p['Dataobject'][0]['data']['ludzie.nazwa']"
   ]
  },
  {
   "cell_type": "code",
   "execution_count": 8,
   "metadata": {},
   "outputs": [
    {
     "data": {
      "text/plain": [
       "86"
      ]
     },
     "execution_count": 8,
     "metadata": {},
     "output_type": "execute_result"
    }
   ],
   "source": [
    "p['Dataobject'][0]['data']['poslowie.liczba_glosowan_opuszczonych']"
   ]
  },
  {
   "cell_type": "code",
   "execution_count": 26,
   "metadata": {},
   "outputs": [],
   "source": [
    "def getData(url: str):\n",
    "    response = requests.get(url)\n",
    "    return json.loads(response.text)"
   ]
  },
  {
   "cell_type": "code",
   "execution_count": 36,
   "metadata": {},
   "outputs": [],
   "source": [
    "url_page1 = \"https://api-v3.mojepanstwo.pl/dane/poslowie.json?conditions[poslowie.kadencja]=8\"\n",
    "url_page2 = \"https://api-v3.mojepanstwo.pl/dane/poslowie.json?conditions[poslowie.kadencja]=8&page=2\"\n",
    "\n",
    "def printLazyPolitics(absentVotingsLimit: int, url: str):\n",
    "    poslowie = getData(url)['Dataobject']\n",
    "    for posel in poslowie:\n",
    "        opuszcz_glosowan = int(posel['data']['poslowie.liczba_glosowan_opuszczonych'])\n",
    "        if opuszcz_glosowan >= absentVotingsLimit:\n",
    "            print(posel['data']['ludzie.nazwa'], \"| opuszczonych glosowan: \", opuszcz_glosowan)"
   ]
  },
  {
   "cell_type": "code",
   "execution_count": 37,
   "metadata": {},
   "outputs": [
    {
     "name": "stdout",
     "output_type": "stream",
     "text": [
      "Szymon Giżyński | opuszczonych glosowan:  1001\n",
      "Joachim Brudziński | opuszczonych glosowan:  1142\n",
      "Mariusz Orion Jędrysek | opuszczonych glosowan:  1050\n",
      "Łukasz Zbonikowski | opuszczonych glosowan:  1389\n",
      "Beata Małecka-Libera | opuszczonych glosowan:  1053\n"
     ]
    }
   ],
   "source": [
    "printLazyPolitics(1000, url_page1)"
   ]
  },
  {
   "cell_type": "code",
   "execution_count": 38,
   "metadata": {},
   "outputs": [
    {
     "name": "stdout",
     "output_type": "stream",
     "text": [
      "Witold Waszczykowski | opuszczonych glosowan:  1374\n",
      "Dorota Arciszewska-Mielewczyk | opuszczonych glosowan:  1334\n",
      "Jan Dziedziczak | opuszczonych glosowan:  1103\n"
     ]
    }
   ],
   "source": [
    "printLazyPolitics(1000, url_page2)"
   ]
  },
  {
   "cell_type": "code",
   "execution_count": null,
   "metadata": {},
   "outputs": [],
   "source": []
  },
  {
   "cell_type": "code",
   "execution_count": null,
   "metadata": {},
   "outputs": [],
   "source": []
  },
  {
   "cell_type": "code",
   "execution_count": null,
   "metadata": {},
   "outputs": [],
   "source": []
  },
  {
   "cell_type": "code",
   "execution_count": null,
   "metadata": {},
   "outputs": [],
   "source": []
  },
  {
   "cell_type": "code",
   "execution_count": null,
   "metadata": {},
   "outputs": [],
   "source": []
  }
 ],
 "metadata": {
  "kernelspec": {
   "display_name": "Python 3",
   "language": "python",
   "name": "python3"
  },
  "language_info": {
   "codemirror_mode": {
    "name": "ipython",
    "version": 3
   },
   "file_extension": ".py",
   "mimetype": "text/x-python",
   "name": "python",
   "nbconvert_exporter": "python",
   "pygments_lexer": "ipython3",
   "version": "3.7.1"
  }
 },
 "nbformat": 4,
 "nbformat_minor": 4
}
