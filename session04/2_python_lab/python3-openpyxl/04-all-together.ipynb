{
 "cells": [
  {
   "cell_type": "code",
   "execution_count": 5,
   "metadata": {},
   "outputs": [],
   "source": [
    "from openpyxl import load_workbook\n",
    "wb = load_workbook('exercises/data/f1-results.xlsx')\n"
   ]
  },
  {
   "cell_type": "code",
   "execution_count": 6,
   "metadata": {},
   "outputs": [
    {
     "data": {
      "text/plain": [
       "0"
      ]
     },
     "execution_count": 6,
     "metadata": {},
     "output_type": "execute_result"
    }
   ],
   "source": [
    "import os\n",
    "os.system(\"open exercises/data/f1-results.xlsx\")"
   ]
  },
  {
   "cell_type": "markdown",
   "metadata": {},
   "source": [
    "**Zadanie 1:** Przygotuj arkusz o nazwie *Standings*, który będzie zawierał sumaryczną liczbę punktów zawodników po każdym wyścigu. \n",
    "    \n",
    "Arkusz powinien zawierać tabelą jak poniżej:\n",
    "\n",
    "|                  | Australia | China | ... |\n",
    "|------------------|-----------|-------|-----|\n",
    "| Lewis Hamilton   | 18        | 43    | ... |\n",
    "| Sebastian Vettel | 25        | 43    | ... |\n",
    "| ...              |           |       |     |\n"
   ]
  },
  {
   "cell_type": "code",
   "execution_count": 12,
   "metadata": {},
   "outputs": [
    {
     "name": "stdout",
     "output_type": "stream",
     "text": [
      "{'Sebastian Vettel VET': {'Australia': '25', 'China': '18', 'Bahrain': '25', 'Russia': '18', 'Spain': '18', 'Monaco': '25', 'Canada': '12', 'Azerbaijan': '12', 'Austria': '18', 'Great Britain': '6', 'Hungary': '25', 'Belgium': '18', 'Italy': '15', 'Singapore': '0', 'Malaysia': '12', 'Japan': '0', 'United States': '18', 'Mexico': '12', 'Brazil': '25', 'Abu Dhabi': '15'}, 'Lewis Hamilton HAM': {'Australia': '18', 'China': '25', 'Bahrain': '18', 'Russia': '12', 'Spain': '25', 'Monaco': '6', 'Canada': '25', 'Azerbaijan': '10', 'Austria': '12', 'Great Britain': '25', 'Hungary': '12', 'Belgium': '25', 'Italy': '25', 'Singapore': '25', 'Malaysia': '18', 'Japan': '25', 'United States': '25', 'Mexico': '2', 'Brazil': '12', 'Abu Dhabi': '18'}, 'Valtteri  Bottas BOT': {'Australia': '15', 'China': '8', 'Bahrain': '15', 'Russia': '25', 'Spain': '0', 'Monaco': '12', 'Canada': '18', 'Azerbaijan': '18', 'Austria': '25', 'Great Britain': '18', 'Hungary': '15', 'Belgium': '10', 'Italy': '18', 'Singapore': '15', 'Malaysia': '10', 'Japan': '12', 'United States': '10', 'Mexico': '18', 'Brazil': '18', 'Abu Dhabi': '25'}, 'Kimi Räikkönen RAI': {'Australia': '12', 'China': '10', 'Bahrain': '12', 'Russia': '15', 'Spain': '0', 'Monaco': '18', 'Canada': '6', 'Azerbaijan': '0', 'Austria': '10', 'Great Britain': '15', 'Hungary': '18', 'Belgium': '12', 'Italy': '10', 'Singapore': '0', 'Malaysia': '0', 'Japan': '10', 'United States': '15', 'Mexico': '15', 'Brazil': '15', 'Abu Dhabi': '12'}, 'Max Verstappen VER': {'Australia': '10', 'China': '15', 'Bahrain': '0', 'Russia': '10', 'Spain': '0', 'Monaco': '10', 'Canada': '0', 'Azerbaijan': '0', 'Austria': '0', 'Great Britain': '12', 'Hungary': '10', 'Belgium': '0', 'Italy': '1', 'Singapore': '0', 'Malaysia': '25', 'Japan': '18', 'United States': '12', 'Mexico': '25', 'Brazil': '10', 'Abu Dhabi': '10'}, 'Felipe Massa MAS': {'Australia': '8', 'China': '0', 'Bahrain': '8', 'Russia': '2', 'Spain': '0', 'Monaco': '2', 'Canada': '0', 'Azerbaijan': '0', 'Austria': '2', 'Great Britain': '1', 'Belgium': '4', 'Italy': '4', 'Singapore': '0', 'Malaysia': '2', 'Japan': '1', 'United States': '2', 'Mexico': '0', 'Brazil': '6', 'Abu Dhabi': '1'}, 'Sergio Perez PER': {'Australia': '6', 'China': '2', 'Bahrain': '6', 'Russia': '8', 'Spain': '12', 'Monaco': '0', 'Canada': '10', 'Azerbaijan': '0', 'Austria': '6', 'Great Britain': '2', 'Hungary': '4', 'Belgium': '0', 'Italy': '2', 'Singapore': '10', 'Malaysia': '8', 'Japan': '6', 'United States': '4', 'Mexico': '6', 'Brazil': '2', 'Abu Dhabi': '6'}, 'Carlos Sainz SAI': {'Australia': '4', 'China': '6', 'Bahrain': '0', 'Russia': '1', 'Spain': '6', 'Monaco': '8', 'Canada': '0', 'Azerbaijan': '4', 'Austria': '0', 'Great Britain': '0', 'Hungary': '6', 'Belgium': '1', 'Italy': '0', 'Singapore': '12', 'Malaysia': '0', 'Japan': '0', 'United States': '6', 'Mexico': '0', 'Brazil': '0', 'Abu Dhabi': '0'}, 'Daniil Kvyat KVY': {'Australia': '2', 'China': '0', 'Bahrain': '0', 'Russia': '0', 'Spain': '2', 'Monaco': '0', 'Canada': '0', 'Azerbaijan': '0', 'Austria': '0', 'Great Britain': '0', 'Hungary': '0', 'Belgium': '0', 'Italy': '0', 'Singapore': '0', 'United States': '1'}, 'Esteban Ocon OCO': {'Australia': '1', 'China': '1', 'Bahrain': '1', 'Russia': '6', 'Spain': '10', 'Monaco': '0', 'Canada': '8', 'Azerbaijan': '8', 'Austria': '4', 'Great Britain': '4', 'Hungary': '2', 'Belgium': '2', 'Italy': '8', 'Singapore': '1', 'Malaysia': '1', 'Japan': '8', 'United States': '8', 'Mexico': '10', 'Brazil': '0', 'Abu Dhabi': '4'}, 'Nico Hulkenberg HUL': {'Australia': '0', 'China': '0', 'Bahrain': '2', 'Russia': '4', 'Spain': '8', 'Monaco': '0', 'Canada': '4', 'Azerbaijan': '0', 'Austria': '0', 'Great Britain': '8', 'Hungary': '0', 'Belgium': '8', 'Italy': '0', 'Singapore': '0', 'Malaysia': '0', 'Japan': '0', 'United States': '0', 'Mexico': '0', 'Brazil': '1', 'Abu Dhabi': '8'}, 'Antonio Giovinazzi GIO': {'Australia': '0', 'China': '0'}, 'Stoffel Vandoorne VAN': {'Australia': '0', 'China': '0', 'Bahrain': '0', 'Russia': '0', 'Spain': '0', 'Monaco': '0', 'Canada': '0', 'Azerbaijan': '0', 'Austria': '0', 'Great Britain': '0', 'Hungary': '1', 'Belgium': '0', 'Italy': '0', 'Singapore': '6', 'Malaysia': '6', 'Japan': '0', 'United States': '0', 'Mexico': '0', 'Brazil': '0', 'Abu Dhabi': '0'}, 'Fernando Alonso ALO': {'Australia': '0', 'China': '0', 'Bahrain': '0', 'Russia': '0', 'Spain': '0', 'Canada': '0', 'Azerbaijan': '2', 'Austria': '0', 'Great Britain': '0', 'Hungary': '8', 'Belgium': '0', 'Italy': '0', 'Singapore': '0', 'Malaysia': '0', 'Japan': '0', 'United States': '0', 'Mexico': '1', 'Brazil': '4', 'Abu Dhabi': '2'}, 'Kevin Magnussen MAG': {'Australia': '0', 'China': '4', 'Bahrain': '0', 'Russia': '0', 'Spain': '0', 'Monaco': '1', 'Canada': '0', 'Azerbaijan': '6', 'Austria': '0', 'Great Britain': '0', 'Hungary': '0', 'Belgium': '0', 'Italy': '0', 'Singapore': '0', 'Malaysia': '0', 'Japan': '4', 'United States': '0', 'Mexico': '4', 'Brazil': '0', 'Abu Dhabi': '0'}, 'Lance Stroll STR': {'Australia': '0', 'China': '0', 'Bahrain': '0', 'Russia': '0', 'Spain': '0', 'Monaco': '0', 'Canada': '2', 'Azerbaijan': '15', 'Austria': '1', 'Great Britain': '0', 'Hungary': '0', 'Belgium': '0', 'Italy': '6', 'Singapore': '4', 'Malaysia': '4', 'Japan': '0', 'United States': '0', 'Mexico': '8', 'Brazil': '0', 'Abu Dhabi': '0'}, 'Daniel Ricciardo RIC': {'Australia': '0', 'China': '12', 'Bahrain': '10', 'Russia': '0', 'Spain': '15', 'Monaco': '15', 'Canada': '15', 'Azerbaijan': '25', 'Austria': '15', 'Great Britain': '10', 'Hungary': '0', 'Belgium': '15', 'Italy': '12', 'Singapore': '18', 'Malaysia': '15', 'Japan': '15', 'United States': '0', 'Mexico': '0', 'Brazil': '8', 'Abu Dhabi': '0'}, 'Marcus Ericsson ERI': {'Australia': '0', 'China': '0', 'Bahrain': '0', 'Russia': '0', 'Spain': '0', 'Monaco': '0', 'Canada': '0', 'Azerbaijan': '0', 'Austria': '0', 'Great Britain': '0', 'Hungary': '0', 'Belgium': '0', 'Italy': '0', 'Singapore': '0', 'Malaysia': '0', 'Japan': '0', 'United States': '0', 'Mexico': '0', 'Brazil': '0', 'Abu Dhabi': '0'}, 'Jolyon Palmer PAL': {'Australia': '0', 'China': '0', 'Bahrain': '0', 'Russia': '0', 'Spain': '0', 'Monaco': '0', 'Canada': '0', 'Azerbaijan': '0', 'Austria': '0', 'Great Britain': '0', 'Hungary': '0', 'Belgium': '0', 'Italy': '0', 'Singapore': '8', 'Malaysia': '0', 'Japan': '0'}, 'Romain Grosjean GRO': {'Australia': '0', 'China': '0', 'Bahrain': '4', 'Russia': '0', 'Spain': '1', 'Monaco': '4', 'Canada': '1', 'Azerbaijan': '0', 'Austria': '8', 'Great Britain': '0', 'Hungary': '0', 'Belgium': '6', 'Italy': '0', 'Singapore': '2', 'Malaysia': '0', 'Japan': '2', 'United States': '0', 'Mexico': '0', 'Brazil': '0', 'Abu Dhabi': '0'}, 'Pascal Wehrlein WEH': {'Bahrain': '0', 'Russia': '0', 'Spain': '4', 'Monaco': '0', 'Canada': '0', 'Azerbaijan': '1', 'Austria': '0', 'Great Britain': '0', 'Hungary': '0', 'Belgium': '0', 'Italy': '0', 'Singapore': '0', 'Malaysia': '0', 'Japan': '0', 'United States': '0', 'Mexico': '0', 'Brazil': '0', 'Abu Dhabi': '0'}, 'Jenson Button BUT': {'Monaco': '0'}, 'Paul di Resta DIR': {'Hungary': '0'}, 'Pierre Gasly GAS': {'Malaysia': '0', 'Japan': '0', 'Mexico': '0', 'Brazil': '0', 'Abu Dhabi': '0'}, 'Brendon Hartley HAR': {'United States': '0', 'Mexico': '0', 'Brazil': '0', 'Abu Dhabi': '0'}}\n"
     ]
    }
   ],
   "source": [
    "# Zadanie 1\n",
    "\n",
    "# Przygotuj dane\n",
    "drivers = {}\n",
    "for sheet in wb:\n",
    "    for row in sheet.iter_rows():\n",
    "        name = row[2].value # column 3 in xlsx\n",
    "        points = row[5].value # column 6 in xlsx\n",
    "        drivers.setdefault(name, {})\n",
    "        races = drivers[name]\n",
    "        races.setdefault(sheet.title, 0)\n",
    "        races[sheet.title] = points\n",
    "        \n",
    "#print(drivers)\n",
    "\n",
    "# Zapisz dane do pliku xlsx\n",
    "from openpyxl import Workbook\n"
   ]
  },
  {
   "cell_type": "code",
   "execution_count": null,
   "metadata": {},
   "outputs": [],
   "source": []
  },
  {
   "cell_type": "markdown",
   "metadata": {},
   "source": [
    "**Zadanie 2:** Na podstawie powyższej tabeli, w arkuszu *Standings* umieść wykres liniowy (`LineChart`), który zaprezentuje sumaryczną liczbę punktów po kolejnych wyścigach. Na osi X powinny być nazwy wyścigów, na osi Y liczba punktów, a serie reprezentują poszczególnych kierowców. "
   ]
  },
  {
   "cell_type": "code",
   "execution_count": null,
   "metadata": {},
   "outputs": [],
   "source": []
  },
  {
   "cell_type": "code",
   "execution_count": null,
   "metadata": {},
   "outputs": [],
   "source": [
    "# Zadanie 2"
   ]
  },
  {
   "cell_type": "code",
   "execution_count": 2,
   "metadata": {},
   "outputs": [],
   "source": [
    "# Przyklad z: https://realpython.com/openpyxl-excel-spreadsheets-python/\n",
    "\n",
    "import random\n",
    "from openpyxl import Workbook\n",
    "from openpyxl.chart import LineChart, Reference\n",
    "\n",
    "workbook = Workbook()\n",
    "sheet = workbook.active\n",
    "\n",
    "# Let's create some sample sales data\n",
    "rows = [\n",
    "    [\"\", \"January\", \"February\", \"March\", \"April\",\n",
    "    \"May\", \"June\", \"July\", \"August\", \"September\",\n",
    "     \"October\", \"November\", \"December\"],\n",
    "    [1, ],\n",
    "    [2, ],\n",
    "    [3, ],\n",
    "]\n",
    "\n",
    "for row in rows:\n",
    "    sheet.append(row)\n",
    "\n",
    "for row in sheet.iter_rows(min_row=2,\n",
    "                           max_row=4,\n",
    "                           min_col=2,\n",
    "                           max_col=13):\n",
    "    for cell in row:\n",
    "        cell.value = random.randrange(5, 100)\n",
    "\n",
    "# Create a LineChart and add the main data\n",
    "chart = LineChart()\n",
    "data = Reference(worksheet=sheet,\n",
    "                           min_row=2,\n",
    "                           max_row=4,\n",
    "                           min_col=1,\n",
    "                           max_col=13)\n",
    "chart.add_data(data, titles_from_data=True, from_rows=True)\n",
    "\n",
    "# Add categories to the chart\n",
    "cats = Reference(worksheet=sheet,\n",
    "                 min_row=1,\n",
    "                 max_row=1,\n",
    "                 min_col=2,\n",
    "                 max_col=13)\n",
    "chart.set_categories(cats)\n",
    "\n",
    "# Rename the X and Y Axis\n",
    "chart.x_axis.title = \"Months\"\n",
    "chart.y_axis.title = \"Sales (per unit)\"\n",
    "\n",
    "# Apply a specific Style\n",
    "chart.style = 24\n",
    "\n",
    "# Save!\n",
    "sheet.add_chart(chart, \"C6\")\n",
    "workbook.save(\"./exercises/tmp/line_chart.xlsx\")"
   ]
  },
  {
   "cell_type": "code",
   "execution_count": 4,
   "metadata": {},
   "outputs": [
    {
     "data": {
      "text/plain": [
       "0"
      ]
     },
     "execution_count": 4,
     "metadata": {},
     "output_type": "execute_result"
    }
   ],
   "source": [
    "import os\n",
    "os.system(\"open ./exercises/tmp/line_chart.xlsx\")"
   ]
  },
  {
   "cell_type": "code",
   "execution_count": null,
   "metadata": {},
   "outputs": [],
   "source": []
  }
 ],
 "metadata": {
  "kernelspec": {
   "display_name": "Python 3",
   "language": "python",
   "name": "python3"
  },
  "language_info": {
   "codemirror_mode": {
    "name": "ipython",
    "version": 3
   },
   "file_extension": ".py",
   "mimetype": "text/x-python",
   "name": "python",
   "nbconvert_exporter": "python",
   "pygments_lexer": "ipython3",
   "version": "3.7.1"
  }
 },
 "nbformat": 4,
 "nbformat_minor": 4
}
