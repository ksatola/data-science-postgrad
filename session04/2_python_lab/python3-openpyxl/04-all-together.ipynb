{
 "cells": [
  {
   "cell_type": "code",
   "execution_count": 118,
   "metadata": {},
   "outputs": [],
   "source": [
    "from openpyxl import load_workbook"
   ]
  },
  {
   "cell_type": "code",
   "execution_count": 119,
   "metadata": {},
   "outputs": [],
   "source": [
    "import os\n",
    "#os.system(\"open exercises/data/f1-results.xlsx\")"
   ]
  },
  {
   "cell_type": "markdown",
   "metadata": {},
   "source": [
    "Docs: https://realpython.com/openpyxl-excel-spreadsheets-python/"
   ]
  },
  {
   "cell_type": "markdown",
   "metadata": {},
   "source": [
    "**Zadanie 1:** Przygotuj arkusz o nazwie *Standings*, który będzie zawierał sumaryczną liczbę punktów zawodników po każdym wyścigu. \n",
    "    \n",
    "Arkusz powinien zawierać tabelą jak poniżej:\n",
    "\n",
    "|                  | Australia | China | ... |\n",
    "|------------------|-----------|-------|-----|\n",
    "| Lewis Hamilton   | 18        | 43    | ... |\n",
    "| Sebastian Vettel | 25        | 43    | ... |\n",
    "| ...              |           |       |     |\n"
   ]
  },
  {
   "cell_type": "code",
   "execution_count": 120,
   "metadata": {},
   "outputs": [],
   "source": [
    "# Zadanie 1a - wersja bez sumarycznej liczby punktow\n",
    "\n",
    "wb = load_workbook('exercises/data/f1-results.xlsx')\n",
    "\n",
    "# Przygotuj dane\n",
    "drivers = {}\n",
    "for sheet in wb:\n",
    "    for row in sheet.iter_rows():\n",
    "        name = row[2].value # column 3 in xlsx\n",
    "        points = row[5].value # column 6 in xlsx\n",
    "        drivers.setdefault(name, {})\n",
    "        races = drivers[name]\n",
    "        races.setdefault(sheet.title, 0)\n",
    "        races[sheet.title] = points\n",
    "        \n",
    "#print(drivers)\n",
    "\n",
    "# Zapisz dane do pliku xlsx\n",
    "\n",
    "# Przygoduj wiersze tabeli\n",
    "from openpyxl import Workbook\n",
    "ws = wb.create_sheet(\"Standings\")\n",
    "\n",
    "data = []\n",
    "for key, value in drivers.items():\n",
    "    #print(key)\n",
    "    row = [key]\n",
    "    for race, points in value.items():\n",
    "        row.append(int(points))\n",
    "    #print(row)\n",
    "    data.append(row)\n",
    "    \n",
    "# Dodaj nazwy kolumn do tabelki (nie uwzgledniaj karty \"Standings\")\n",
    "ws.append([''] + wb.sheetnames[:-1])\n",
    "\n",
    "# Mini formatowanie wygladu\n",
    "from openpyxl.styles import Font, Color, Alignment, Border, Side, colors\n",
    "bold_font = Font(bold=True)\n",
    "for column in ws.iter_cols(min_col=2, min_row=1, max_col=21, max_row=1):\n",
    "    for cell in column:\n",
    "        #print(cell.font)\n",
    "        cell.font = bold_font\n",
    "\n",
    "# Nie mozna zaaplikowac stylu do zakresu komorek:\n",
    "# https://stackoverflow.com/questions/37632327/openpyxl-assign-value-or-apply-format-to-a-range-of-excel-cells-without-iterati\n",
    "    \n",
    "# Dodaj wiersze do tabelki\n",
    "for row in data:\n",
    "    ws.append(row)\n",
    "\n",
    "# Zapisz do pliku\n",
    "wb.save('./exercises/tmp/f1-results-standings-noncumulative.xlsx')"
   ]
  },
  {
   "cell_type": "code",
   "execution_count": 121,
   "metadata": {},
   "outputs": [
    {
     "data": {
      "text/plain": [
       "0"
      ]
     },
     "execution_count": 121,
     "metadata": {},
     "output_type": "execute_result"
    }
   ],
   "source": [
    "import os\n",
    "os.system(\"open exercises/tmp/f1-results-standings-noncumulative.xlsx\")"
   ]
  },
  {
   "cell_type": "code",
   "execution_count": 122,
   "metadata": {},
   "outputs": [],
   "source": [
    "# Zadanie 1b - wersja z sumaryczna liczba punktow\n",
    "\n",
    "wb = load_workbook('exercises/data/f1-results.xlsx')\n",
    "\n",
    "# Przygotuj dane\n",
    "drivers = {}\n",
    "for sheet in wb:\n",
    "    for row in sheet.iter_rows():\n",
    "        name = row[2].value # column 3 in xlsx\n",
    "        points = row[5].value # column 6 in xlsx\n",
    "        drivers.setdefault(name, [])\n",
    "        races = drivers[name]\n",
    "        if len(races) == 0:\n",
    "            cum_points = int(points)\n",
    "        else:\n",
    "            cum_points = races[-1] + int(points)\n",
    "        races.append(cum_points)\n",
    "        drivers[name] = races\n",
    "        \n",
    "#print(drivers)\n",
    "\n",
    "# Zapisz dane do pliku xlsx\n",
    "\n",
    "# Przygoduj wiersze tabeli\n",
    "from openpyxl import Workbook\n",
    "ws = wb.create_sheet(\"Standings\")\n",
    "\n",
    "data = []\n",
    "for key, value in drivers.items():\n",
    "    data.append([key] + value)\n",
    "    \n",
    "# Dodaj nazwy kolumn do tabelki (nie uwzgledniaj karty \"Standings\")\n",
    "ws.append([''] + wb.sheetnames[:-1])\n",
    "\n",
    "# Mini formatowanie wygladu\n",
    "from openpyxl.styles import Font, Color, Alignment, Border, Side, colors\n",
    "bold_font = Font(bold=True)\n",
    "for column in ws.iter_cols(min_col=2, min_row=1, max_col=21, max_row=1):\n",
    "    for cell in column:\n",
    "        #print(cell.font)\n",
    "        cell.font = bold_font\n",
    "\n",
    "# Nie mozna zaaplikowac stylu do zakresu komorek:\n",
    "# https://stackoverflow.com/questions/37632327/openpyxl-assign-value-or-apply-format-to-a-range-of-excel-cells-without-iterati\n",
    "    \n",
    "# Dodaj wiersze do tabelki\n",
    "for row in data:\n",
    "    ws.append(row)\n",
    "\n",
    "# Zapisz do pliku\n",
    "wb.save('./exercises/tmp/f1-results-standings-cumulative.xlsx')"
   ]
  },
  {
   "cell_type": "code",
   "execution_count": 123,
   "metadata": {},
   "outputs": [
    {
     "data": {
      "text/plain": [
       "0"
      ]
     },
     "execution_count": 123,
     "metadata": {},
     "output_type": "execute_result"
    }
   ],
   "source": [
    "import os\n",
    "os.system(\"open exercises/tmp/f1-results-standings-cumulative.xlsx\")"
   ]
  },
  {
   "cell_type": "markdown",
   "metadata": {},
   "source": [
    "**Zadanie 2:** Na podstawie powyższej tabeli, w arkuszu *Standings* umieść wykres liniowy (`LineChart`), który zaprezentuje sumaryczną liczbę punktów po kolejnych wyścigach. Na osi X powinny być nazwy wyścigów, na osi Y liczba punktów, a serie reprezentują poszczególnych kierowców. "
   ]
  },
  {
   "cell_type": "code",
   "execution_count": 124,
   "metadata": {},
   "outputs": [],
   "source": [
    "# Zadanie 2a - non-cumulative\n",
    "\n",
    "from openpyxl import Workbook, load_workbook\n",
    "from openpyxl.chart import (\n",
    "    LineChart,\n",
    "    Reference,\n",
    "    Series\n",
    ")\n",
    "\n",
    "wb = load_workbook('exercises/tmp/f1-results-standings-noncumulative.xlsx')\n",
    "ws = wb['Standings']\n",
    "\n",
    "c1 = LineChart()\n",
    "c1.title = \"Non-cumulative points per race per driver\"\n",
    "#c1.style = 13\n",
    "c1.y_axis.title = 'Points'\n",
    "c1.x_axis.title = 'Race'\n",
    "\n",
    "i = 2\n",
    "for row in ws.iter_rows(min_row=2):\n",
    "    #print(row[0].value) # kolumna 1 w arkuszu\n",
    "\n",
    "    data = Reference(ws, min_row=i, min_col=2, max_row=i, max_col=21)\n",
    "    serie = Series(data, title=row[0].value)\n",
    "    c1.append(serie)\n",
    "    \n",
    "    i += 1\n",
    "\n",
    "data = Reference(ws, min_row=1, min_col=2, max_row=1, max_col=21)\n",
    "c1.set_categories(data)\n",
    "\n",
    "c1.height = 15 # default is 7.5\n",
    "c1.width = 30 # default is 15\n",
    "\n",
    "ws.add_chart(c1, \"K5\")\n",
    "\n",
    "wb.save(\"./exercises/tmp/f1-results-standings-chart-noncumulative.xlsx\")"
   ]
  },
  {
   "cell_type": "code",
   "execution_count": 125,
   "metadata": {},
   "outputs": [
    {
     "data": {
      "text/plain": [
       "0"
      ]
     },
     "execution_count": 125,
     "metadata": {},
     "output_type": "execute_result"
    }
   ],
   "source": [
    "import os\n",
    "os.system(\"open exercises/tmp/f1-results-standings-chart-noncumulative.xlsx\")"
   ]
  },
  {
   "cell_type": "code",
   "execution_count": 126,
   "metadata": {},
   "outputs": [],
   "source": [
    "# Zadanie 2b - cumulative\n",
    "\n",
    "from openpyxl import Workbook, load_workbook\n",
    "from openpyxl.chart import (\n",
    "    LineChart,\n",
    "    Reference,\n",
    "    Series\n",
    ")\n",
    "\n",
    "wb = load_workbook('exercises/tmp/f1-results-standings-cumulative.xlsx')\n",
    "ws = wb['Standings']\n",
    "\n",
    "c1 = LineChart()\n",
    "c1.title = \"Cumulative points per race per driver\"\n",
    "#c1.style = 13\n",
    "c1.y_axis.title = 'Points'\n",
    "c1.x_axis.title = 'Race'\n",
    "\n",
    "i = 2\n",
    "for row in ws.iter_rows(min_row=2):\n",
    "    #print(row[0].value) # kolumna 1 w arkuszu\n",
    "\n",
    "    data = Reference(ws, min_row=i, min_col=2, max_row=i, max_col=21)\n",
    "    serie = Series(data, title=row[0].value)\n",
    "    c1.append(serie)\n",
    "    \n",
    "    i += 1\n",
    "\n",
    "data = Reference(ws, min_row=1, min_col=2, max_row=1, max_col=21)\n",
    "c1.set_categories(data)\n",
    "\n",
    "c1.height = 15 # default is 7.5\n",
    "c1.width = 30 # default is 15\n",
    "\n",
    "ws.add_chart(c1, \"K5\")\n",
    "\n",
    "wb.save(\"./exercises/tmp/f1-results-standings-chart-cumulative.xlsx\")"
   ]
  },
  {
   "cell_type": "code",
   "execution_count": 127,
   "metadata": {},
   "outputs": [
    {
     "data": {
      "text/plain": [
       "0"
      ]
     },
     "execution_count": 127,
     "metadata": {},
     "output_type": "execute_result"
    }
   ],
   "source": [
    "import os\n",
    "os.system(\"open exercises/tmp/f1-results-standings-chart-cumulative.xlsx\")"
   ]
  },
  {
   "cell_type": "code",
   "execution_count": null,
   "metadata": {},
   "outputs": [],
   "source": []
  }
 ],
 "metadata": {
  "kernelspec": {
   "display_name": "Python 3",
   "language": "python",
   "name": "python3"
  },
  "language_info": {
   "codemirror_mode": {
    "name": "ipython",
    "version": 3
   },
   "file_extension": ".py",
   "mimetype": "text/x-python",
   "name": "python",
   "nbconvert_exporter": "python",
   "pygments_lexer": "ipython3",
   "version": "3.7.1"
  }
 },
 "nbformat": 4,
 "nbformat_minor": 4
}
