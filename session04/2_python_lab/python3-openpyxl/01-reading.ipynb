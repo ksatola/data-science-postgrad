{
 "cells": [
  {
   "cell_type": "markdown",
   "metadata": {},
   "source": [
    "# Wprowadzenie do czytania danych z plików Excel\n",
    "\n",
    "## Przygotowanie środowiska Python\n",
    "\n",
    "Do pracy z plikami Excel wykorzystamy bibliotekę `openpyxl`, która dostarcza niezbędne metody do odczytu, edycji i zapisu danych w arkuszach Excela. Dokumentacja biblioteki znajduje się na stronie https://openpyxl.readthedocs.io/\n",
    "\n",
    "Aby móc korzystać z biblioteki `openpyxl` należy się upewnić czy jest zainstalowana w systemie. \n",
    "\n",
    "Wykonaj następujący kod."
   ]
  },
  {
   "cell_type": "code",
   "execution_count": null,
   "metadata": {},
   "outputs": [],
   "source": [
    "from openpyxl import Workbook"
   ]
  },
  {
   "cell_type": "markdown",
   "metadata": {},
   "source": [
    "Jeśli wykonanie kodu nie spowodowało błędu, oznacza to, że biblioteka `openpyxl` jest zainstalowana w Twoim środowisku Python. Jeśli jednak zobaczyłeś błąd, zainstaluj biblitekę za pomocą poniższego polecenia."
   ]
  },
  {
   "cell_type": "code",
   "execution_count": null,
   "metadata": {},
   "outputs": [],
   "source": [
    "# Installs a pip package in the current Jupyter kernel\n",
    "import sys\n",
    "!{sys.executable} -m pip install openpyxl --user"
   ]
  },
  {
   "cell_type": "markdown",
   "metadata": {},
   "source": [
    "Zrestartuj Kernel Jupytera (interpreter języka Python) za pomocą opcji w menu głównym: `Kernel -> Restart & Clear Output`."
   ]
  },
  {
   "cell_type": "markdown",
   "metadata": {},
   "source": [
    "## Wprowadzenie\n",
    "\n",
    "Po poprawnym zainstalowaniu biblioteki, do dalszej pracy konieczne jest jej zaimportowanie (kod poniżej). \n",
    "W każdym skrypcie, w którym wykorzystasz bibliotekę `openpyxl` konieczne jest wykonanie odpowiednich importów. W pierwszym przypadku importujemy metodę do odczytu istniejacęgo pliku `load_sheet` oraz główną klasę reprezentującą skoroszyt `Workbook`. W dalszej części ćwiczenia przedstawione zostaną metody ich wykorzystania."
   ]
  },
  {
   "cell_type": "code",
   "execution_count": 1,
   "metadata": {},
   "outputs": [],
   "source": [
    "from openpyxl import load_workbook\n",
    "from openpyxl import Workbook"
   ]
  },
  {
   "cell_type": "markdown",
   "metadata": {},
   "source": [
    "## Odczyt informacji z pliku\n"
   ]
  },
  {
   "cell_type": "markdown",
   "metadata": {},
   "source": [
    "### Skoroszyt (Workbook)\n",
    "\n",
    "W celu wczytania istniejacego skoroszytu (ang. *workbook*) należy zaimportowaną wcześniej metodę `load_workbook`, podając jako argument ścieżkę do pliku XLSX.\n",
    "\n",
    "Po wczytaniu skoroszytu, możemy pobrać nazwy wszystkich arkuszy (ang. *sheet*), które są dostępne w `sheetnames` skoroszytu.\n",
    "\n",
    "Pełną specyfikację klasy `Workbook` znajdziejsz na stronie: https://openpyxl.readthedocs.io/en/stable/api/openpyxl.workbook.workbook.html"
   ]
  },
  {
   "cell_type": "code",
   "execution_count": 2,
   "metadata": {},
   "outputs": [
    {
     "name": "stdout",
     "output_type": "stream",
     "text": [
      "['Australia', 'China', 'Bahrain', 'Russia', 'Spain', 'Monaco', 'Canada', 'Azerbaijan', 'Austria', 'Great Britain', 'Hungary', 'Belgium', 'Italy', 'Singapore', 'Malaysia', 'Japan', 'United States', 'Mexico', 'Brazil', 'Abu Dhabi']\n"
     ]
    }
   ],
   "source": [
    "wb = load_workbook('exercises/data/f1-results.xlsx')\n",
    "sheetnames = wb.sheetnames\n",
    "# print names at console\n",
    "print(sheetnames)\n",
    "\n",
    "# Kolumny w kazdym arkuszu\n",
    "#pozycja\n",
    "#nr zawodnika\n",
    "#nazwa kierowcy\n",
    "#nazwa zespolu\n",
    "#czasy\n",
    "#liczba punktow"
   ]
  },
  {
   "cell_type": "markdown",
   "metadata": {},
   "source": [
    "### Arkusz (sheet, worksheet)\n",
    "\n",
    "Po wczytaniu skoroszytu, należy przejść do wybranego **arkusza** (ang. *sheet*). Najprostszym sposobem jest wykorzystanie metody `active` na skoroszycie, które zwraca aktywny arkusz. \n",
    "\n",
    "Każdy arkusz ma unikalną nazwę co pokazano w poprzednim przykładzie. Za pomocą nazwy można pobrać obiekt arkusza:\n",
    "`ws = wb['name']`.\n",
    "\n",
    "W wyniku otrzymuje obiekt arkusza (typu `Worksheet`). Pełną specyfikacje klasy `Worksheet` znajdziesz na stronie: https://openpyxl.readthedocs.io/en/stable/api/openpyxl.worksheet.worksheet.html#openpyxl.worksheet.worksheet.Worksheet"
   ]
  },
  {
   "cell_type": "code",
   "execution_count": 3,
   "metadata": {},
   "outputs": [
    {
     "name": "stdout",
     "output_type": "stream",
     "text": [
      "<Worksheet \"Italy\">\n",
      "<Worksheet \"Monaco\">\n"
     ]
    }
   ],
   "source": [
    "active_sheet = wb.active\n",
    "print(active_sheet)\n",
    "\n",
    "monaco_sheet = wb['Monaco']\n",
    "print(monaco_sheet)"
   ]
  },
  {
   "cell_type": "markdown",
   "metadata": {},
   "source": [
    "**Wskazówka:** W celu przeczytania szybszego dostępu do dokumentacji wybranej metody napisz kod poprzedzony `?` i wywołaj wykonanie kodu (`Shift+Enter`). Przykład poniżej:"
   ]
  },
  {
   "cell_type": "code",
   "execution_count": 4,
   "metadata": {},
   "outputs": [],
   "source": [
    "?wb.active"
   ]
  },
  {
   "cell_type": "markdown",
   "metadata": {},
   "source": [
    "***\n",
    "**Zadanie**: Napisz kod, który pobierze wszystkie arkusze skoroszytu `wb` (uwaga, nie ich nazwy) i wypisze je na konsolę. \n",
    "\n",
    "Wykorzystaj w tym celu pętlę `for` oraz metodę `sheetnames`. Do wypisywania na konsolę wykorzystaj metodę `print`. "
   ]
  },
  {
   "cell_type": "code",
   "execution_count": null,
   "metadata": {},
   "outputs": [],
   "source": [
    "# TODO"
   ]
  },
  {
   "cell_type": "markdown",
   "metadata": {},
   "source": [
    "### Komórki (cells) \n",
    "\n",
    "W plikach Excela właściwe dane przechowywane są w komórkach (ang. *cells*). Komórki można pobrać z wykorzystaniem dwóch metod:\n",
    "1. Kolumna: litery A..Z, AA..ZZ, ...; wiersz: liczby 1... Przykład: `sheet['A1']`\n",
    "2. Współrzędne całkowite: wiersz (row) 1.., kolumna (column) 1... W tym celu wykorzystuje się metodę `cell` obiektu `Worksheet`, na przykład: `sheet.row(1,1)` \n",
    "\n",
    "Każda komórka jest obiektem klasy `Cell`, której pełną dokumentację znajdziesz na stronie: https://openpyxl.readthedocs.io/en/stable/api/openpyxl.cell.cell.html\n",
    "\n",
    "Najistotniejszym atrybutem obiektu `Cell` jest atrybut `value`, który przechowuje wartość komórki.\n",
    "\n",
    "Poniżej przedstawiono kod umożliwiający odwołanie się do komórek oraz wydrukowania ich wartości.\n"
   ]
  },
  {
   "cell_type": "code",
   "execution_count": null,
   "metadata": {},
   "outputs": [],
   "source": [
    "c1 = active_sheet['C1']\n",
    "print(c1.value)\n",
    "\n",
    "c2 = active_sheet.cell(row=2, column=3)\n",
    "print(c2.value)\n",
    "\n",
    "print(active_sheet.title)"
   ]
  },
  {
   "cell_type": "markdown",
   "metadata": {},
   "source": [
    "***\n",
    "**Zadanie:** Napisz kod, który wypisze wszystkich zwycięzców poszczególnych wyścigów w następującej postaci:\n",
    "\n",
    "    Australia -> Lewis Hamilton HAM\n",
    "    China -> Lewis Hamilton HAM"
   ]
  },
  {
   "cell_type": "code",
   "execution_count": 18,
   "metadata": {},
   "outputs": [
    {
     "name": "stdout",
     "output_type": "stream",
     "text": [
      "Australia -> Sebastian Vettel VET\n",
      "China -> Lewis Hamilton HAM\n",
      "Bahrain -> Sebastian Vettel VET\n",
      "Russia -> Valtteri  Bottas BOT\n",
      "Spain -> Lewis Hamilton HAM\n",
      "Monaco -> Sebastian Vettel VET\n",
      "Canada -> Lewis Hamilton HAM\n",
      "Azerbaijan -> Daniel Ricciardo RIC\n",
      "Austria -> Valtteri  Bottas BOT\n",
      "Great Britain -> Lewis Hamilton HAM\n",
      "Hungary -> Sebastian Vettel VET\n",
      "Belgium -> Lewis Hamilton HAM\n",
      "Italy -> Lewis Hamilton HAM\n",
      "Singapore -> Lewis Hamilton HAM\n",
      "Malaysia -> Max Verstappen VER\n",
      "Japan -> Lewis Hamilton HAM\n",
      "United States -> Lewis Hamilton HAM\n",
      "Mexico -> Max Verstappen VER\n",
      "Brazil -> Sebastian Vettel VET\n",
      "Abu Dhabi -> Valtteri  Bottas BOT\n"
     ]
    }
   ],
   "source": [
    "# TODO\n",
    "sheetnames = wb.sheetnames\n",
    "for sheet in sheetnames:\n",
    "    active_sheet = wb[sheet]\n",
    "    c1 = active_sheet['C1']\n",
    "    #print(\"{} -> {}\".format(sheet, c1.value))\n",
    "    print(f\"{sheet} -> {c1.value}\")"
   ]
  },
  {
   "cell_type": "code",
   "execution_count": 19,
   "metadata": {},
   "outputs": [
    {
     "name": "stdout",
     "output_type": "stream",
     "text": [
      "Australia  ->  Sebastian Vettel VET\n",
      "China  ->  Lewis Hamilton HAM\n",
      "Bahrain  ->  Sebastian Vettel VET\n",
      "Russia  ->  Valtteri  Bottas BOT\n",
      "Spain  ->  Lewis Hamilton HAM\n",
      "Monaco  ->  Sebastian Vettel VET\n",
      "Canada  ->  Lewis Hamilton HAM\n",
      "Azerbaijan  ->  Daniel Ricciardo RIC\n",
      "Austria  ->  Valtteri  Bottas BOT\n",
      "Great Britain  ->  Lewis Hamilton HAM\n",
      "Hungary  ->  Sebastian Vettel VET\n",
      "Belgium  ->  Lewis Hamilton HAM\n",
      "Italy  ->  Lewis Hamilton HAM\n",
      "Singapore  ->  Lewis Hamilton HAM\n",
      "Malaysia  ->  Max Verstappen VER\n",
      "Japan  ->  Lewis Hamilton HAM\n",
      "United States  ->  Lewis Hamilton HAM\n",
      "Mexico  ->  Max Verstappen VER\n",
      "Brazil  ->  Sebastian Vettel VET\n",
      "Abu Dhabi  ->  Valtteri  Bottas BOT\n"
     ]
    }
   ],
   "source": [
    "for sheet in wb:\n",
    "    print(sheet.title, ' -> ', sheet['C1'].value)"
   ]
  },
  {
   "cell_type": "markdown",
   "metadata": {},
   "source": [
    "### Przeglądanie zawartości komórek (cell ranges)\n",
    "\n",
    "Przeglądanie komórek wpisując ich dokładne adresy (współrzędne) nie jest elastyczne i wystarczające zwłaszcza przy analizie dużych plików danych. Biblioteka `openpyxl` udostępnia zestaw metod, które pozwalają odwołać się do wielu komórek jednocześnie, iterować po nich w pętli i dzięki temu wykonać bardziej złożone operacje.\n",
    "\n",
    "W bibliotece w klasie `Worksheet` wprowadzono następujące metody\n",
    "1. `iter_cols(min_col, min_row, max_col, max_row)` - zwraca komórki z podanego zakresu idąc po kolumnach\n",
    "1. `iter_rows(min_col, min_row, max_col, max_row)` - zwraca komórki z podanego zakresu idąc po wierszach\n",
    "1. podanie zakresu komórek w notacji A1:B2: `ws['A1:B2']` - analogiczicznie do metody `iter_rows`\n",
    "\n",
    "Poniżej przykłady poszczególnych metod drukujących wyniki dla trzech pierwszych kierowców:"
   ]
  },
  {
   "cell_type": "code",
   "execution_count": 16,
   "metadata": {},
   "outputs": [
    {
     "name": "stdout",
     "output_type": "stream",
     "text": [
      "Print values by columns:\n",
      "Valtteri  Bottas BOT\n",
      "Lewis Hamilton HAM\n",
      "Sebastian Vettel VET\n",
      "Mercedes\n",
      "Mercedes\n",
      "Ferrari\n",
      "1:34:14.062\n",
      "+3.899s\n",
      "+19.330s\n"
     ]
    }
   ],
   "source": [
    "print('Print values by columns:')\n",
    "for column in active_sheet.iter_cols(min_col=3, min_row=1, max_col=5, max_row=3):\n",
    "    for cell in column:\n",
    "        print(cell.value)"
   ]
  },
  {
   "cell_type": "code",
   "execution_count": 17,
   "metadata": {},
   "outputs": [
    {
     "name": "stdout",
     "output_type": "stream",
     "text": [
      "Print values by rows\n",
      "Valtteri  Bottas BOT\n",
      "Mercedes\n",
      "1:34:14.062\n",
      "Lewis Hamilton HAM\n",
      "Mercedes\n",
      "+3.899s\n",
      "Sebastian Vettel VET\n",
      "Ferrari\n",
      "+19.330s\n",
      "Kimi Räikkönen RAI\n",
      "Ferrari\n",
      "+45.386s\n",
      "Max Verstappen VER\n",
      "Red Bull Racing TAG Heuer\n",
      "+46.269s\n",
      "Nico Hulkenberg HUL\n",
      "Renault\n",
      "+85.713s\n",
      "Sergio Perez PER\n",
      "Force India Mercedes\n",
      "+92.062s\n",
      "Esteban Ocon OCO\n",
      "Force India Mercedes\n",
      "+98.911s\n",
      "Fernando Alonso ALO\n",
      "McLaren Honda\n",
      "+1 lap\n",
      "Felipe Massa MAS\n",
      "Williams Mercedes\n",
      "+1 lap\n",
      "Romain Grosjean GRO\n",
      "Haas Ferrari\n",
      "+1 lap\n",
      "Stoffel Vandoorne VAN\n",
      "McLaren Honda\n",
      "+1 lap\n",
      "Kevin Magnussen MAG\n",
      "Haas Ferrari\n",
      "+1 lap\n",
      "Pascal Wehrlein WEH\n",
      "Sauber Ferrari\n",
      "+1 lap\n",
      "Brendon Hartley HAR\n",
      "Toro Rosso\n",
      "+1 lap\n",
      "Pierre Gasly GAS\n",
      "Toro Rosso\n",
      "+1 lap\n",
      "Marcus Ericsson ERI\n",
      "Sauber Ferrari\n",
      "+1 lap\n",
      "Lance Stroll STR\n",
      "Williams Mercedes\n",
      "+1 lap\n",
      "Carlos Sainz SAI\n",
      "Renault\n",
      "DNF\n",
      "Daniel Ricciardo RIC\n",
      "Red Bull Racing TAG Heuer\n",
      "DNF\n"
     ]
    }
   ],
   "source": [
    "print('Print values by rows')\n",
    "for row in active_sheet.iter_rows(min_col=3, min_row=1, max_col=5):\n",
    "    for cell in row:\n",
    "        print(cell.value)"
   ]
  },
  {
   "cell_type": "code",
   "execution_count": null,
   "metadata": {},
   "outputs": [],
   "source": [
    "print('Print values by rows using cell range')\n",
    "for row in active_sheet['C1:E3']:\n",
    "    for cell in row:\n",
    "        print(cell.value)"
   ]
  },
  {
   "cell_type": "markdown",
   "metadata": {},
   "source": [
    "W metodach `iter_rows` i `iter_cols` można pominąć ograniczenia na min/max kolumny i wiersz jeśli chcemy, aby otrzymać domyślne wartości: od pierwszego wiersza/kolumny do ostatniego wiersza/kolumny.\n",
    "\n",
    "W poniższym przykładzie wydrukowaną zostaną wynikia dla wszystkich zawodników."
   ]
  },
  {
   "cell_type": "code",
   "execution_count": null,
   "metadata": {},
   "outputs": [],
   "source": [
    "print('Print values by rows with default range')\n",
    "for row in active_sheet.iter_rows(min_col=3, max_col=5):\n",
    "    for cell in row:\n",
    "        print(cell.value)"
   ]
  },
  {
   "cell_type": "markdown",
   "metadata": {},
   "source": [
    "## Zadania\n",
    "\n",
    "**Zadanie 1:**\n",
    "\n",
    "Napisz kod, który wypisze kierowców, którzy co najmniej raz zwyciężyli wyścig GP.\n",
    "\n",
    "**Zadanie 2:**\n",
    "\n",
    "Napisz kod, który wypisze ile punktów zdobył Lewis Hamilton.\n",
    "\n",
    "**Zadanie 3:**\n",
    "\n",
    "Napisz kod, który wypisze ile punktów zdobył zespół Ferrari.\n",
    "\n",
    "**Zadanie 4:**\n",
    "\n",
    "Napisz kod, który wypiszę tabelę wyników na koniec sezonu. W pojedynczym wierszu na konsoli wypisz miejsce, imię i nazwisko kierowcy, sumaryczna liczba punktów."
   ]
  },
  {
   "cell_type": "code",
   "execution_count": null,
   "metadata": {},
   "outputs": [],
   "source": [
    "# Zadanie 1"
   ]
  },
  {
   "cell_type": "code",
   "execution_count": null,
   "metadata": {},
   "outputs": [],
   "source": [
    "# Zadanie 2"
   ]
  },
  {
   "cell_type": "code",
   "execution_count": null,
   "metadata": {},
   "outputs": [],
   "source": [
    "# Zadanie 3"
   ]
  },
  {
   "cell_type": "code",
   "execution_count": null,
   "metadata": {},
   "outputs": [],
   "source": [
    "# Zadanie 4"
   ]
  }
 ],
 "metadata": {
  "kernelspec": {
   "display_name": "Python 3",
   "language": "python",
   "name": "python3"
  },
  "language_info": {
   "codemirror_mode": {
    "name": "ipython",
    "version": 3
   },
   "file_extension": ".py",
   "mimetype": "text/x-python",
   "name": "python",
   "nbconvert_exporter": "python",
   "pygments_lexer": "ipython3",
   "version": "3.7.1"
  }
 },
 "nbformat": 4,
 "nbformat_minor": 2
}
