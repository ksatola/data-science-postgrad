{
 "cells": [
  {
   "cell_type": "markdown",
   "metadata": {},
   "source": [
    "# Wrowadzenie do zapisu informacji w plikach Excel"
   ]
  },
  {
   "cell_type": "markdown",
   "metadata": {},
   "source": [
    "W ćwiczeniu tym zobaczysz jak dodawać lub modyfikować dane w arkuszach Excela oraz jak zapisać przeprowadzone zmiany do pliku XLSX. W tym celu wykorzystana zostania ta sama bibliotekt, `openpyxl`, która dostarcza dedykowane metody edycji i zapisu danych.\n",
    "\n",
    "\n",
    "W celu rozpoczęcia ćwiczenia należy ponownie zaimportować klasę `Workbook`."
   ]
  },
  {
   "cell_type": "code",
   "execution_count": null,
   "metadata": {},
   "outputs": [],
   "source": [
    "from openpyxl import Workbook"
   ]
  },
  {
   "cell_type": "markdown",
   "metadata": {},
   "source": [
    "## Utworzenie nowego skoroszytu"
   ]
  },
  {
   "cell_type": "code",
   "execution_count": null,
   "metadata": {},
   "outputs": [],
   "source": [
    "wb = Workbook()\n",
    "\n",
    "# A workbook is always created with at least one worksheet. \n",
    "# You can get it by using the openpyxl.workbook.Workbook.active() property\n",
    "ws = wb.active\n",
    "\n",
    "# You can create a new sheet\n",
    "ws1 = wb.create_sheet(\"Custom sheet\")\n",
    "ws1.title = \"New title\"\n",
    "ws1.sheet_properties.tabColor = \"1072BA\"\n",
    "\n",
    "# assign value to a cell\n",
    "ws = wb.active\n",
    "ws['A1'].value = 'hello world'\n",
    "\n",
    "# print the content of A1 cell\n",
    "print(ws['A1'].value)"
   ]
  },
  {
   "cell_type": "markdown",
   "metadata": {},
   "source": [
    "**Uwaga:** Skoroszyt jest przechowywany w pamięci operacyjnej i na tym etapie nie został zapisany. Dlatego po wykonaniu poniższego kodu, żaden nowy plik nie pojawi się na dysku, co można sprawdzić następującym poleceniem:"
   ]
  },
  {
   "cell_type": "code",
   "execution_count": null,
   "metadata": {},
   "outputs": [],
   "source": [
    "import os\n",
    "os.listdir('./exercises/tmp/')"
   ]
  },
  {
   "cell_type": "markdown",
   "metadata": {},
   "source": [
    "## Zapis skoroszytu do pliku"
   ]
  },
  {
   "cell_type": "markdown",
   "metadata": {},
   "source": [
    "W celu zapisania skoroszytu (obiekt typu `Workbook`) wywołaj metodę `save` podając ścieżkę do docelowego pliku. Jeśli plik istnieje, zostanie nadpisany."
   ]
  },
  {
   "cell_type": "code",
   "execution_count": null,
   "metadata": {},
   "outputs": [],
   "source": [
    "wb.save('./exercises/tmp/02-helloworld2.xlsx')"
   ]
  },
  {
   "cell_type": "markdown",
   "metadata": {},
   "source": [
    "Wyświetl zawartość katalogu, w którym powinien znaleźć się nowy plik."
   ]
  },
  {
   "cell_type": "code",
   "execution_count": null,
   "metadata": {},
   "outputs": [],
   "source": [
    "import os\n",
    "os.listdir('./exercises/tmp/')"
   ]
  },
  {
   "cell_type": "markdown",
   "metadata": {},
   "source": [
    "Otwórz utworzony plik w programie MS Excel (lub LibreCalc) i sprawdź jego zawartość. \n",
    "Zamknij arkusz."
   ]
  },
  {
   "cell_type": "code",
   "execution_count": null,
   "metadata": {},
   "outputs": [],
   "source": [
    "os.system(\"open ./exercises/tmp/02-helloworld2.xlsx\")"
   ]
  },
  {
   "cell_type": "markdown",
   "metadata": {},
   "source": [
    "## Zapis różnych typów danych\n"
   ]
  },
  {
   "cell_type": "code",
   "execution_count": null,
   "metadata": {
    "scrolled": true
   },
   "outputs": [],
   "source": [
    "ws = wb.active\n",
    "ws['A2'] = 1\n",
    "print(ws['A2'].value)\n",
    "ws['A3'] = 1.0\n",
    "print(ws['A3'].value)\n",
    "ws['A4'] = '23%'\n",
    "print(ws['A4'].value)\n",
    "wb.guess_types = True\n",
    "ws['A5'] = '23%'\n",
    "print(ws['A5'].value)\n",
    "wb.guess_types = False"
   ]
  },
  {
   "cell_type": "code",
   "execution_count": null,
   "metadata": {},
   "outputs": [],
   "source": [
    "import datetime\n",
    "ws['B1'] = datetime.datetime(2018, 6, 16)\n",
    "print(ws['B1'].value)"
   ]
  },
  {
   "cell_type": "code",
   "execution_count": null,
   "metadata": {},
   "outputs": [],
   "source": [
    "wb.save('./exercises/tmp/02-helloworld.xlsx')"
   ]
  },
  {
   "cell_type": "markdown",
   "metadata": {},
   "source": [
    "## Zadania\n",
    "\n",
    "**Zadanie 1:** Napisz kod, który wygeneruje prosty arkusz ocen, zawierający następujące kolumny: liczba porządkowa, imię i nazwisko, ocenę. Wygenerowana tabela powinna mieć nagłówek opisujący kolumny. Nad tabelą z ocenami powinna być nazwa przedmiotu (np. Wprowadzenie do skryptów w Python) oraz data zajęć (np. 2018.06.16). Skoroszyt powinien zostać zapisany do pliku `./exercises/tmp/02-marks.xlsx`. Przykładowe dane znajdują się w kodzie poniżej.\n",
    "\n",
    "**Zadanie 2:** Zmodyfikuj zadanie 4 z poprzedniego ćwiczenia tak, aby tabela wyników była zapisana w nowym arkuszu o nazwie \"Final Results\". Tabela powinna zawierać następujące kolumny: miejsce, imię i nazwisko kierowcy, sumaryczna liczba punktów."
   ]
  },
  {
   "cell_type": "code",
   "execution_count": null,
   "metadata": {},
   "outputs": [],
   "source": [
    "# Zadanie 1\n",
    "\n",
    "data = [\n",
    "    [\"Jadwiga Bilecka\", 5.0],\n",
    "    [\"Katarzyna Dawro\", 3.0],\n",
    "    [\"Michał Fądecki\", 4.5],\n",
    "    [\"Jolanta Filecka\", 5.0],\n",
    "    [\"Rafał Fraczyński\", 4],\n",
    "    [\"Andrzej Jadziak\", 3.5],\n",
    "    [\"Barbara Kiszewska\", 3.0],\n",
    "    [\"Rafał Kobek\", 3.5],\n",
    "    [\"Janusz Kurant\", 4.0],\n",
    "    [\"Michał Lipecki\", 4.5],\n",
    "    [\"Krystyna Policka\", 5.0],\n",
    "    [\"Robert Sulik\", 4.5],\n",
    "    [\"Zbigniew Twardzioch\", 4.0],\n",
    "    [\"Tadeusz Zomornik\", 3.0],\n",
    "    [\"Zbigniew Żeligowski\", 3.5]\n",
    "]\n",
    "\n",
    "#TODO\n",
    "    \n",
    "wb.save('./exercises/data/02-01.xlsx')"
   ]
  },
  {
   "cell_type": "code",
   "execution_count": null,
   "metadata": {},
   "outputs": [],
   "source": [
    "# Zadanie 2\n",
    "from openpyxl import load_workbook\n",
    "import operator\n",
    "\n",
    "\n",
    "wb = load_workbook('exercises/data/f1-results.xlsx')\n",
    "\n",
    "#TODO\n",
    "\n",
    "    \n",
    "wb.save('exercises/tmp/f1-results-ranking.xlsx')\n"
   ]
  },
  {
   "cell_type": "code",
   "execution_count": null,
   "metadata": {},
   "outputs": [],
   "source": [
    "import os\n",
    "os.system('open exercises/tmp/f1-results-ranking.xlsx')"
   ]
  },
  {
   "cell_type": "markdown",
   "metadata": {},
   "source": [
    "## Zaawansowane typy danych (opcjonalnie)\n",
    "\n",
    "W Excelu istnieje wiele typów danych liczbowych, w tym te obejmujące typy pieniężne i waluty oraz typy matematyczne, typów związanych z datą i czasem i jeszcze inne. Wybór odpowiedniego typu jest istotny, ponieważ wynik prowadzonych działań matematycznych może różnić się w zależności od wyboru typu danych (np. zaokrąglenia wartości pieniężnych).\n",
    "\n",
    "Biblioteka `openpyxl` umożliwia ustawienie typu wartości dla komórki za pomocą metody: `cell.number_format = '0.00E+00'`, gdzie kod podany pojedynczych cudzysłowach to kod formatu, zdefiniowany w Excelu (https://support.office.com/en-us/article/Number-format-codes-5026bbd6-04bc-48cd-bf33-80f18b4eae68).\n",
    "\n",
    "Poniżej kilka przykładów:"
   ]
  },
  {
   "cell_type": "code",
   "execution_count": null,
   "metadata": {},
   "outputs": [],
   "source": [
    "wb = Workbook()\n",
    "ws = wb.active\n",
    "# currency type with round up \n",
    "a1 = ws['A1']\n",
    "a1.number_format = '#.## zł'\n",
    "a1.value = 12.235\n",
    "a2 = ws['A2']\n",
    "a2.number_format = '#.## zł'\n",
    "a2.value = 12.235\n",
    "a3 = ws['A3']\n",
    "a3.number_format = '#.## zł'\n",
    "a3.value = a1.value + a2.value\n",
    "wb.save('./exercises/data/02-data-types.xlsx')"
   ]
  },
  {
   "cell_type": "code",
   "execution_count": null,
   "metadata": {},
   "outputs": [],
   "source": [
    "os.system(\"open ./exercises/tmp/02-data-types.xlsx\")"
   ]
  }
 ],
 "metadata": {
  "kernelspec": {
   "display_name": "Python 3",
   "language": "python",
   "name": "python3"
  },
  "language_info": {
   "codemirror_mode": {
    "name": "ipython",
    "version": 3
   },
   "file_extension": ".py",
   "mimetype": "text/x-python",
   "name": "python",
   "nbconvert_exporter": "python",
   "pygments_lexer": "ipython3",
   "version": "3.7.1"
  }
 },
 "nbformat": 4,
 "nbformat_minor": 2
}
