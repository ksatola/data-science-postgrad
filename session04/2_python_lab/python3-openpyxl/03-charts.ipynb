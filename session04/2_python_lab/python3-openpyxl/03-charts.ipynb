{
 "cells": [
  {
   "cell_type": "markdown",
   "metadata": {},
   "source": [
    "## Analiza danych za pomocą wykresów\n"
   ]
  },
  {
   "cell_type": "markdown",
   "metadata": {},
   "source": [
    "## Wykresy słupkowe\n",
    "\n",
    "Dokumentacja https://openpyxl.readthedocs.io/en/2.5/api/openpyxl.chart.bar_chart.html"
   ]
  },
  {
   "cell_type": "code",
   "execution_count": 1,
   "metadata": {},
   "outputs": [],
   "source": [
    "from openpyxl import Workbook, load_workbook\n",
    "from openpyxl.chart import BarChart, Series, Reference\n",
    "\n",
    "wb = load_workbook(\"./exercises/data/03-dane-gus.xlsx\")\n",
    "ws = wb[\"Tabl. 3 (50)\"]\n",
    "\n",
    "chart1 = BarChart()\n",
    "chart1.type = \"col\"\n",
    "chart1.style = 10\n",
    "chart1.title = \"Population by age\"\n",
    "chart1.y_axis.title = 'Number of people'\n",
    "chart1.x_axis.title = 'Age'\n",
    "\n",
    "data = Reference(ws, min_col=2, min_row=14, max_row=35, max_col=4)\n",
    "cats = Reference(ws, min_col=1, min_row=14, max_row=35)\n",
    "chart1.add_data(data, titles_from_data=False)\n",
    "chart1.set_categories(cats)\n",
    "chart1.shape = 4\n",
    "ws.add_chart(chart1, \"A40\")\n",
    "\n",
    "wb.save(\"./exercises/tmp/03-dane-gus-m.xlsx\")\n",
    "\n"
   ]
  },
  {
   "cell_type": "code",
   "execution_count": null,
   "metadata": {},
   "outputs": [],
   "source": [
    "import os\n",
    "os.system(\"open ./exercises/tmp/03-dane-gus-m.xlsx\")"
   ]
  },
  {
   "cell_type": "markdown",
   "metadata": {},
   "source": [
    "**Zadanie** Zmodyfikuj powyższy przykład tak, aby wygenerować wykres porównujacy lata 2005, 2010, 2015."
   ]
  },
  {
   "cell_type": "code",
   "execution_count": null,
   "metadata": {},
   "outputs": [],
   "source": [
    "# Zadanie\n"
   ]
  },
  {
   "cell_type": "code",
   "execution_count": null,
   "metadata": {},
   "outputs": [],
   "source": [
    "import os\n",
    "os.system(\"open ./exercises/tmp/03-dane-gus-m.xlsx\")"
   ]
  },
  {
   "cell_type": "markdown",
   "metadata": {},
   "source": [
    "### Serie danych - ręczna konfiguracja"
   ]
  },
  {
   "cell_type": "code",
   "execution_count": null,
   "metadata": {},
   "outputs": [],
   "source": [
    "from openpyxl import Workbook, load_workbook\n",
    "from openpyxl.chart import BarChart, Series, Reference\n",
    "\n",
    "wb = load_workbook(\"./exercises/data/03-dane-gus.xlsx\")\n",
    "ws = wb[\"Tabl. 3 (50)\"]\n",
    "\n",
    "chart1 = BarChart()\n",
    "chart1.type = \"col\"\n",
    "chart1.style = 10\n",
    "chart1.title = \"Population by age\"\n",
    "chart1.y_axis.title = 'Number of people'\n",
    "chart1.x_axis.title = 'Age'\n",
    "\n",
    "# instead of a whole area, one can add each series manually\n",
    "data = Reference(ws, min_col=3, min_row=14, max_row=35, max_col=3)\n",
    "serie = Series(data, title=\"2010\")\n",
    "chart1.append(serie)\n",
    "\n",
    "data = Reference(ws, min_col=4, min_row=14, max_row=35, max_col=4)\n",
    "serie = Series(data, title=\"2015\")\n",
    "chart1.append(serie)\n",
    "\n",
    "cats = Reference(ws, min_col=1, min_row=14, max_row=35)\n",
    "chart1.set_categories(cats)\n",
    "chart1.shape = 4\n",
    "ws.add_chart(chart1, \"A40\")\n",
    "\n",
    "wb.save(\"./exercises/tmp/03-dane-gus-m.xlsx\")\n"
   ]
  },
  {
   "cell_type": "code",
   "execution_count": null,
   "metadata": {},
   "outputs": [],
   "source": [
    "import os\n",
    "os.system(\"open ./exercises/tmp/03-dane-gus-m.xlsx\")"
   ]
  },
  {
   "cell_type": "markdown",
   "metadata": {},
   "source": [
    "**Zadanie:** Narysuj wykres słupkowy, który porówna liczbę ludności w poszczególnych przedziałach wiekowych dla 2016 roku z podziałem na obszar zamieszkania (miasta, wieś). Pamiętaj aby odpowiednio podpisać osie i serie danych. Wykorzystaj w tym celu arkusz Tabl. 3 (50) oraz wybrane informacje z kolumn E:J."
   ]
  },
  {
   "cell_type": "code",
   "execution_count": null,
   "metadata": {},
   "outputs": [],
   "source": [
    "# Zadanie"
   ]
  },
  {
   "cell_type": "markdown",
   "metadata": {},
   "source": [
    "## Wykresy kołowe \n"
   ]
  },
  {
   "cell_type": "code",
   "execution_count": null,
   "metadata": {},
   "outputs": [],
   "source": [
    "from openpyxl import Workbook, load_workbook\n",
    "\n",
    "from openpyxl.chart import (\n",
    "    PieChart,\n",
    "    ProjectedPieChart,\n",
    "    Reference\n",
    ")\n",
    "from openpyxl.chart.series import DataPoint\n",
    "\n",
    "wb = load_workbook(\"./exercises/tmp/03-dane-gus.xlsx\")\n",
    "ws = wb[\"Tabl. 9 (56)\"]\n",
    "\n",
    "pie = PieChart()\n",
    "labels = Reference(ws, min_col=1, min_row=12, max_row=19)\n",
    "data = Reference(ws, min_col=2, min_row=12, max_row=19)\n",
    "\n",
    "pie.add_data(data)\n",
    "pie.set_categories(labels)\n",
    "pie.title = \"Marriges by age of bridegrooms\"\n",
    "\n",
    "# Cut the first slice out of the pie\n",
    "slice = DataPoint(idx=2, explosion=20)\n",
    "pie.series[0].data_points = [slice]\n",
    "\n",
    "ws.add_chart(pie, \"L3\")\n",
    "\n",
    "wb.save(\"./exercises/tmp/03-dane-gus-m.xlsx\")"
   ]
  },
  {
   "cell_type": "code",
   "execution_count": null,
   "metadata": {},
   "outputs": [],
   "source": [
    "import os\n",
    "os.system(\"open ./exercises/tmp/03-dane-gus-m.xlsx\")"
   ]
  },
  {
   "cell_type": "markdown",
   "metadata": {},
   "source": [
    "**Zadanie** Stwórz dwa wykresy typu `PieChart`, które przedstawią liczbę małżeństw zawartych przez męzczyzn w poszczególnych grupach wiekowych (jak w przykładzie powyżej), w rozbicu na miasta i wsie (dane znajdują się w arkuszu Tabl. 9 (56) poniżej 34 wiersza. Umieść oba wykresy (jeden pod drugim) w arkuszu Tabl. 9 (59)."
   ]
  },
  {
   "cell_type": "code",
   "execution_count": null,
   "metadata": {},
   "outputs": [],
   "source": [
    "# Zadanie\n"
   ]
  },
  {
   "cell_type": "markdown",
   "metadata": {},
   "source": [
    "## Wykresy liniowe"
   ]
  },
  {
   "cell_type": "code",
   "execution_count": null,
   "metadata": {},
   "outputs": [],
   "source": [
    "from datetime import date\n",
    "\n",
    "from openpyxl import Workbook, load_workbook\n",
    "from openpyxl.chart import (\n",
    "    LineChart,\n",
    "    Reference,\n",
    ")\n",
    "from openpyxl.chart.axis import DateAxis\n",
    "\n",
    "wb = load_workbook(\"./exercises/data/03-dane-gus-ludnosc.xlsx\")\n",
    "ws = wb[\"ruch  naturalny\"]\n",
    "\n",
    "c1 = LineChart()\n",
    "c1.title = \"Prognoza populacji Polski\"\n",
    "c1.style = 13\n",
    "c1.y_axis.title = 'Ludność'\n",
    "c1.x_axis.title = 'Rok'\n",
    "\n",
    "data = Reference(ws, min_col=3, min_row=5, max_col=3, max_row=41)\n",
    "c1.add_data(data, titles_from_data=False)\n",
    "data = Reference(ws, min_col=2, min_row=5, max_col=2, max_row=41)\n",
    "c1.set_categories(data)\n",
    "\n",
    "ws.add_chart(c1, \"K5\")\n",
    "\n",
    "wb.save(\"./exercises/tmp/03-dane-gus-ludnosc-m.xlsx\")\n"
   ]
  },
  {
   "cell_type": "code",
   "execution_count": null,
   "metadata": {},
   "outputs": [],
   "source": [
    "import os\n",
    "os.system(\"open ./exercises/data/03-dane-gus-ludnosc-m.xlsx\")"
   ]
  },
  {
   "cell_type": "markdown",
   "metadata": {},
   "source": [
    "Wykresy liniowe z wieloma seriami, konfigurowalnymi ręcznie."
   ]
  },
  {
   "cell_type": "code",
   "execution_count": null,
   "metadata": {},
   "outputs": [],
   "source": [
    "from datetime import date\n",
    "\n",
    "from openpyxl import Workbook, load_workbook\n",
    "from openpyxl.chart import (\n",
    "    LineChart,\n",
    "    Reference,\n",
    "    Series\n",
    ")\n",
    "from openpyxl.chart.axis import DateAxis\n",
    "\n",
    "wb = load_workbook(\"./exercises/data/03-dane-gus-ludnosc.xlsx\")\n",
    "ws = wb[\"ruch  naturalny\"]\n",
    "\n",
    "c1 = LineChart()\n",
    "c1.title = \"Prognoza populacji Polski\"\n",
    "c1.style = 13\n",
    "c1.y_axis.title = 'Ludność'\n",
    "c1.x_axis.title = 'Rok'\n",
    "\n",
    "# instead of a whole area, one can add each series manually\n",
    "data = Reference(ws, min_col=3, min_row=5, max_col=3, max_row=41)\n",
    "serie = Series(data, title=\"Ogółem\")\n",
    "c1.append(serie)\n",
    "\n",
    "data = Reference(ws, min_col=3, min_row=42, max_col=3, max_row=78)\n",
    "serie = Series(data, title=\"Miasto\")\n",
    "c1.append(serie)\n",
    "\n",
    "data = Reference(ws, min_col=3, min_row=79, max_col=3, max_row=115)\n",
    "serie = Series(data, title=\"Wieś\")\n",
    "c1.append(serie)\n",
    "\n",
    "data = Reference(ws, min_col=2, min_row=5, max_col=2, max_row=41)\n",
    "c1.set_categories(data)\n",
    "\n",
    "ws.add_chart(c1, \"K5\")\n",
    "\n",
    "wb.save(\"./exercises/tmp/03-dane-gus-ludnosc-m.xlsx\")\n",
    "\n"
   ]
  },
  {
   "cell_type": "code",
   "execution_count": null,
   "metadata": {},
   "outputs": [],
   "source": [
    "import os\n",
    "os.system(\"open ./exercises/tmp/03-dane-gus-ludnosc-m.xlsx\")"
   ]
  },
  {
   "cell_type": "code",
   "execution_count": null,
   "metadata": {},
   "outputs": [],
   "source": []
  }
 ],
 "metadata": {
  "kernelspec": {
   "display_name": "Python 3",
   "language": "python",
   "name": "python3"
  },
  "language_info": {
   "codemirror_mode": {
    "name": "ipython",
    "version": 3
   },
   "file_extension": ".py",
   "mimetype": "text/x-python",
   "name": "python",
   "nbconvert_exporter": "python",
   "pygments_lexer": "ipython3",
   "version": "3.7.1"
  }
 },
 "nbformat": 4,
 "nbformat_minor": 2
}
