{
 "cells": [
  {
   "cell_type": "markdown",
   "metadata": {},
   "source": [
    "## Obsługa jupyter notebook\n",
    "\n",
    "W notatniku znajdują się interaktywne pola, które można edytować (kod w języku Python 3) oraz wykonywać. Wyniki wykonania programów zostaną wyświetlone zaraz pod kodem źródłowym.\n",
    "\n",
    "W poniższe pole wpisz przykładowy kod python:\n",
    "\n",
    "```python\n",
    "print(\"hello jupyter\")\n",
    "```\n",
    "A następnie wykonaj kod naciskając klawisze **Shift+Enter**.\n",
    "\n",
    "Jeśli chcesz poprawić kod, kliknij w myszą w edytowalne pole lub naciśnij **Enter**. \n",
    "\n",
    "Popraw poniższy kod, tak aby wypisał `hello {twoję imię}`. Wykonaj kod i sprawdź poprawność wyniku\n"
   ]
  },
  {
   "cell_type": "code",
   "execution_count": 1,
   "metadata": {},
   "outputs": [
    {
     "name": "stdout",
     "output_type": "stream",
     "text": [
      "hello \n",
      "world\n"
     ]
    }
   ],
   "source": [
    "print('hello ')\n",
    "\n",
    "print('world')\n"
   ]
  },
  {
   "cell_type": "markdown",
   "metadata": {},
   "source": [
    "# Podstawy Python - przypomnienie\n",
    "\n",
    "## Wartości, zmienne, instrukcje warunkowe"
   ]
  },
  {
   "cell_type": "code",
   "execution_count": 2,
   "metadata": {},
   "outputs": [
    {
     "name": "stdout",
     "output_type": "stream",
     "text": [
      "4\n"
     ]
    }
   ],
   "source": [
    "a = 2\n",
    "b = 2\n",
    "c = a + b\n",
    "print(c)"
   ]
  },
  {
   "cell_type": "code",
   "execution_count": 4,
   "metadata": {},
   "outputs": [
    {
     "name": "stdout",
     "output_type": "stream",
     "text": [
      "wpisz cos: sss\n"
     ]
    }
   ],
   "source": [
    "text = input(\"wpisz cos: \")"
   ]
  },
  {
   "cell_type": "code",
   "execution_count": 5,
   "metadata": {},
   "outputs": [
    {
     "name": "stdout",
     "output_type": "stream",
     "text": [
      "sss\n"
     ]
    }
   ],
   "source": [
    "print(text)"
   ]
  },
  {
   "cell_type": "code",
   "execution_count": 6,
   "metadata": {},
   "outputs": [
    {
     "name": "stdout",
     "output_type": "stream",
     "text": [
      "positive\n"
     ]
    }
   ],
   "source": [
    "x = 1\n",
    "if x < 0:\n",
    "    print('negative')\n",
    "    \n",
    "x = 1\n",
    "if x < 0:\n",
    "    print('negative')\n",
    "else:\n",
    "    print('positive')\n",
    "    "
   ]
  },
  {
   "cell_type": "markdown",
   "metadata": {},
   "source": [
    "**Zadanie:** Napisz instrukcję warunkową, która dla tekstów dłuższych niż 10 znaków wypisze komunikat `Too long`, a w przeciwnym wypadku wypisze `It's ok!`. Do wyznaczenia długości tekstu wykorzystaj metodę `len(text)`."
   ]
  },
  {
   "cell_type": "code",
   "execution_count": 9,
   "metadata": {},
   "outputs": [
    {
     "name": "stdout",
     "output_type": "stream",
     "text": [
      "Too long\n"
     ]
    }
   ],
   "source": [
    "len('very long text')\n",
    "\n",
    "text = 'sample text that is very long'\n",
    "len(text)\n",
    "\n",
    "x = \"It's ok\"\n",
    "\n",
    "# TODO\n",
    "if len(text) > 10:\n",
    "    print(\"Too long\")\n",
    "else:\n",
    "    print(\"It's ok!\")"
   ]
  },
  {
   "cell_type": "markdown",
   "metadata": {},
   "source": [
    "## Pętle"
   ]
  },
  {
   "cell_type": "code",
   "execution_count": 11,
   "metadata": {},
   "outputs": [
    {
     "name": "stdout",
     "output_type": "stream",
     "text": [
      "0\n",
      "45\n"
     ]
    }
   ],
   "source": [
    "print(8 % 4)\n",
    "    \n",
    "l = [1, 2, 3, 4, 5]\n",
    "sum = 0\n",
    "for el in range(0, 10):\n",
    "    sum = sum + el\n",
    "\n",
    "print(sum)"
   ]
  },
  {
   "cell_type": "code",
   "execution_count": 10,
   "metadata": {},
   "outputs": [
    {
     "name": "stdout",
     "output_type": "stream",
     "text": [
      "0\n"
     ]
    }
   ],
   "source": [
    "print(8 % 4)"
   ]
  },
  {
   "cell_type": "markdown",
   "metadata": {},
   "source": [
    "**Zadanie:** Napiszę pętlę `for`, która wypisze liczby w zakresie od 1 do 100 podzielne przez 8. Możesz wykorzystać w tym celu dzielenie modulo (operator `%`)."
   ]
  },
  {
   "cell_type": "code",
   "execution_count": 14,
   "metadata": {},
   "outputs": [
    {
     "name": "stdout",
     "output_type": "stream",
     "text": [
      "0\n",
      "8\n",
      "16\n",
      "24\n",
      "32\n",
      "40\n",
      "48\n",
      "56\n",
      "64\n",
      "72\n",
      "80\n",
      "88\n",
      "96\n"
     ]
    }
   ],
   "source": [
    "for x in range(101):\n",
    "    if x%8 == 0:\n",
    "        print(x)"
   ]
  },
  {
   "cell_type": "markdown",
   "metadata": {},
   "source": [
    "Pętle zagnieżdżone pozwalają na wykonywanie \"pętli w pętli\". Z poziomu wewnętrznej pętli mamy dostęp do zmiennych zdefiniowanych wyżej. Poniższy kod wypisuje tabliczkę mnożenia w zakresie 1-5."
   ]
  },
  {
   "cell_type": "code",
   "execution_count": 12,
   "metadata": {},
   "outputs": [
    {
     "name": "stdout",
     "output_type": "stream",
     "text": [
      "1 * 1 = 1\n",
      "1 * 2 = 2\n",
      "1 * 3 = 3\n",
      "1 * 4 = 4\n",
      "2 * 1 = 2\n",
      "2 * 2 = 4\n",
      "2 * 3 = 6\n",
      "2 * 4 = 8\n",
      "3 * 1 = 3\n",
      "3 * 2 = 6\n",
      "3 * 3 = 9\n",
      "3 * 4 = 12\n",
      "4 * 1 = 4\n",
      "4 * 2 = 8\n",
      "4 * 3 = 12\n",
      "4 * 4 = 16\n"
     ]
    }
   ],
   "source": [
    "for x in range(1, 5):\n",
    "    for y in range(1, 5):\n",
    "        print('%d * %d = %d' % (x, y, x*y))"
   ]
  },
  {
   "cell_type": "markdown",
   "metadata": {},
   "source": [
    "**Zadanie 1** Napisz pętlę, która liczy silnię liczb w zakresie od 2 do 10. \n",
    "\n",
    "Silnia definiowana jest jako iloczyn wszystkich liczb mniejszych lub równych danej liczby:\n",
    "$$n! = 1*2*3*...*n$$\n",
    "\n",
    "np.: \n",
    "\n",
    "$2! = 1 \\cdot 2 = 2$\n",
    "\n",
    "$5! = 1 \\cdot 2 \\cdot 3 \\cdot 4 \\cdot 5 = 120$\n",
    "\n",
    "Program powinien wypisać następujące komunikaty:\n",
    "```\n",
    "1! = 1\n",
    "2! = 2\n",
    "3! = 6\n",
    "...\n",
    "10! = ?\n",
    "```"
   ]
  },
  {
   "cell_type": "code",
   "execution_count": 38,
   "metadata": {},
   "outputs": [
    {
     "name": "stdout",
     "output_type": "stream",
     "text": [
      "3628800\n"
     ]
    }
   ],
   "source": [
    "silnia = 1\n",
    "x = 10\n",
    "for y in range(2, x+1):\n",
    "    silnia = silnia * y\n",
    "print(silnia)"
   ]
  },
  {
   "cell_type": "code",
   "execution_count": 40,
   "metadata": {},
   "outputs": [
    {
     "name": "stdout",
     "output_type": "stream",
     "text": [
      "1\n",
      "1\n",
      "2\n",
      "6\n",
      "24\n",
      "120\n",
      "720\n",
      "5040\n",
      "40320\n",
      "362880\n"
     ]
    }
   ],
   "source": [
    "z = 10\n",
    "\n",
    "for x in range(z):\n",
    "    silnia = 1\n",
    "    for y in range(2, x+1):\n",
    "        silnia = silnia * y\n",
    "    print(silnia)"
   ]
  },
  {
   "cell_type": "markdown",
   "metadata": {},
   "source": [
    "## Metody"
   ]
  },
  {
   "cell_type": "code",
   "execution_count": 41,
   "metadata": {},
   "outputs": [
    {
     "name": "stdout",
     "output_type": "stream",
     "text": [
      "hello world\n",
      "hello James\n",
      "Power of 4 is 16\n"
     ]
    }
   ],
   "source": [
    "# method definition; \n",
    "def printHelloWorld():\n",
    "    print('hello world')\n",
    "    \n",
    "# method call\n",
    "printHelloWorld()\n",
    "\n",
    "# method with parameters\n",
    "def sayHello(name):\n",
    "    print('hello ' + name)\n",
    "\n",
    "sayHello('James')\n",
    "\n",
    "# method that returns value\n",
    "def powerOf(a):\n",
    "    return a*a\n",
    "\n",
    "pow = powerOf(4)\n",
    "print(\"Power of {} is {}\".format(4, pow))"
   ]
  },
  {
   "cell_type": "markdown",
   "metadata": {},
   "source": [
    "## Listy\n",
    "\n",
    "Dokumentacja: https://docs.python.org/3.6/tutorial/datastructures.html#more-on-lists"
   ]
  },
  {
   "cell_type": "code",
   "execution_count": 42,
   "metadata": {},
   "outputs": [
    {
     "name": "stdout",
     "output_type": "stream",
     "text": [
      "the first element: John\n",
      "the last element: Bob\n",
      "John\n",
      "Mary\n",
      "Alice\n",
      "Bob\n",
      "0 -> John\n",
      "1 -> Mary\n",
      "2 -> Alice\n",
      "3 -> Bob\n",
      "0 -> John\n",
      "1 -> Mary\n",
      "2 -> Alice\n",
      "3 -> Bob\n",
      "['John', 'Mary', 'Alice', 'Bob']\n"
     ]
    }
   ],
   "source": [
    "# create a new list\n",
    "names = [  \"John\", \"Mary\", \"Alice\", \"Bob\"]\n",
    "\n",
    "# access element of list\n",
    "print(\"the first element: {}\".format(names[0])) \n",
    "print(\"the last element: {}\".format(names[len(names)-1])) \n",
    "\n",
    "# itareate over elements of list\n",
    "for name in names:\n",
    "    print(name)\n",
    "    \n",
    "for i in range(0, len(names)):\n",
    "    print(\"{} -> {}\".format(i, names[i]))\n",
    "    \n",
    "for i, name in enumerate(names):\n",
    "    print(\"{} -> {}\".format(i, name))\n",
    "    \n",
    "# print the list\n",
    "print(names)"
   ]
  },
  {
   "cell_type": "code",
   "execution_count": 43,
   "metadata": {},
   "outputs": [
    {
     "name": "stdout",
     "output_type": "stream",
     "text": [
      "['John', 'Mary', 'Alice', 'Bob', 'Jimmy']\n",
      "Jimmy\n",
      "['John', 'Mary', 'Alice', 'Bob']\n",
      "['Mary', 'Alice', 'Bob']\n",
      "['Mary']\n"
     ]
    }
   ],
   "source": [
    "# create a new list\n",
    "names = [  \"John\", \"Mary\", \"Alice\", \"Bob\"]\n",
    "\n",
    "# add element at the end\n",
    "names.append(\"Jimmy\")\n",
    "print(names)\n",
    "\n",
    "# get and remove element from the end\n",
    "name = names.pop()\n",
    "print(name)\n",
    "print(names)\n",
    "\n",
    "# remove elements from list\n",
    "del names[0]\n",
    "print(names)\n",
    "del names[1:3]\n",
    "print(names)"
   ]
  },
  {
   "cell_type": "markdown",
   "metadata": {},
   "source": [
    "**Zadanie 1:** Napisz metodę `merge`, która połączy dwie listy tak, aby elementy jednej listy były na początku, później elementy drugiej listy.\n",
    "\n",
    "**Zadanie 2:** Napisz metodę `mergeSimultanously`, która połączy dwie listy układając elementy na przemian."
   ]
  },
  {
   "cell_type": "code",
   "execution_count": 55,
   "metadata": {},
   "outputs": [
    {
     "name": "stdout",
     "output_type": "stream",
     "text": [
      "[1]\n",
      "[2]\n"
     ]
    },
    {
     "data": {
      "text/plain": [
       "[1, 2]"
      ]
     },
     "execution_count": 55,
     "metadata": {},
     "output_type": "execute_result"
    }
   ],
   "source": [
    "def my_merge(list1, list2):\n",
    "    print(list1)\n",
    "    print(list2)\n",
    "    return list1 + list2\n",
    "\n",
    "my_merge([1],[2])"
   ]
  },
  {
   "cell_type": "code",
   "execution_count": null,
   "metadata": {},
   "outputs": [],
   "source": []
  },
  {
   "cell_type": "code",
   "execution_count": null,
   "metadata": {},
   "outputs": [],
   "source": [
    "# Zadania 1\n",
    "\n",
    "def merge(first, second):\n",
    "    # TODO write code here\n",
    "    print()\n",
    "    \n",
    "# tests\n",
    "a = [0, 1, 2, 3, 4]\n",
    "b = [5, 6, 7, 8, 9]\n",
    "c = merge(a, b)\n",
    "print(c)\n",
    "assert c == [0, 1, 2, 3, 4, 5, 6, 7, 8, 9], \"The list is not merged correctly\""
   ]
  },
  {
   "cell_type": "code",
   "execution_count": null,
   "metadata": {},
   "outputs": [],
   "source": [
    "# Zadania 1\n",
    "\n",
    "def mergeSimultanously(first, second):\n",
    "    # TODO write code here\n",
    "    print()\n",
    "    \n",
    "# tests\n",
    "a = [0, 2, 4, 6, 8]\n",
    "b = [1, 3, 5, 7, 9]\n",
    "c = mergeSimultanously(a, b)\n",
    "print(c)\n",
    "assert c == [0, 1, 2, 3, 4, 5, 6, 7, 8, 9], \"The list is not merged correctly\""
   ]
  },
  {
   "cell_type": "markdown",
   "metadata": {},
   "source": [
    "## Krotki (ang. tuples)\n",
    "\n",
    "Dokumentacja: https://docs.python.org/3.6/tutorial/datastructures.html#tuples-and-sequences"
   ]
  },
  {
   "cell_type": "code",
   "execution_count": null,
   "metadata": {},
   "outputs": [],
   "source": [
    "# tuple - a sequence of various elements\n",
    "phone_entry = \"John\", \"600-100-000\", \"john@example.com\", 31\n",
    "\n",
    "print(phone_entry[0])\n",
    "print(phone_entry[1])\n",
    "\n",
    "# nested elements \n",
    "phone_entry = \"John\", {\"work\": \"600-100-000\", \"home\": \"500-000-123\"}, \"john@example.com\", 31\n",
    "\n",
    "print(phone_entry[1][\"home\"])\n",
    "\n",
    "# tuples cannot be modified\n",
    "#phone_entry[2] = \"wrong\" # uncomment to see an error\n",
    "\n",
    "# tuple unpacking\n",
    "name, phone, email, age = phone_entry\n",
    "print(email)\n"
   ]
  },
  {
   "cell_type": "markdown",
   "metadata": {},
   "source": [
    "**Zadanie 1** Napisz krotkę, w której będą znajdować się dane teleadresowe instytucji (nazwa, adres, numer telefonu, fax, i adres email). Wykorzystaj zagnieżdżone krotki dla adresu.\n",
    "\n",
    "Napisz metodę `printAddress`, która przyjmuje krotkę i wypiszę ją \"ładnie\" na konsolę."
   ]
  },
  {
   "cell_type": "code",
   "execution_count": null,
   "metadata": {},
   "outputs": [],
   "source": [
    "# Zadanie 1\n",
    "\n",
    "def printAddress(address):\n",
    "    # TODO\n",
    "    print()"
   ]
  },
  {
   "cell_type": "markdown",
   "metadata": {},
   "source": [
    "## Mapy (słowniki)\n",
    "\n",
    "Dokumentacja https://docs.python.org/3.6/tutorial/datastructures.html#dictionaries"
   ]
  },
  {
   "cell_type": "code",
   "execution_count": null,
   "metadata": {},
   "outputs": [],
   "source": [
    "phone_book = {\"John\": \"600-100-000\", \"Mary\": \"500-000-123\", \"Alice\": \"504-323-234\"}\n",
    "print(phone_book)\n",
    "\n",
    "# add entry to map\n",
    "phone_book[\"Bob\"] = \"789-435-345\"\n",
    "print(phone_book)\n",
    "\n",
    "# get value for a key\n",
    "mary_number = phone_book[\"Mary\"]\n",
    "print(mary_number)\n",
    "\n",
    "# check if a key exists\n",
    "print(\"Mary\" in phone_book)\n",
    "print(\"Johnny\" in phone_book)\n",
    "\n",
    "# remove elements\n",
    "del phone_book[\"Bob\"]\n",
    "print(phone_book)\n"
   ]
  },
  {
   "cell_type": "code",
   "execution_count": null,
   "metadata": {},
   "outputs": [],
   "source": [
    "phone_book = {\"John\": \"600-100-000\", \"Mary\": \"500-000-123\", \"Alice\": \"504-323-234\"}\n",
    "\n",
    "for name, number in phone_book.items():\n",
    "    print(\"{} has {} number\".format(name, number))"
   ]
  },
  {
   "cell_type": "markdown",
   "metadata": {},
   "source": [
    "**Zadanie 1:** Statystyka wyrazów\n",
    "\n",
    "Celem zadania będzie napisanie metody umożliwiającej wyznaczenie statystyki\n",
    "wyrazów w analizowanym wierszu (w tym przypadku Pan Tadeusz).\n",
    "\n",
    "Napisz metodę `countWords`, która wypisze na ekran 100 najczęściej wystepujących wyrazów,\n",
    "które zawierają co najmniej 4 litery. Wraz z wyrazami wypisz liczbę wystąpień\n",
    "wyrazów w tekście.\n",
    "\n",
    "Wskazówka: do posortowania elementów mapy wykorzystaj następującą konstrukcję (gdzie `wordstats` to mapa zawierająca słowa oraz liczbę ich wystąpień):\n",
    "```python\n",
    "sorted_words = sorted(wordstats.items(), key=operator.itemgetter(1), reverse=True)\n",
    "```\n"
   ]
  },
  {
   "cell_type": "code",
   "execution_count": null,
   "metadata": {},
   "outputs": [],
   "source": [
    "# Zadanie 1\n",
    "\n",
    "from requests import get\n",
    "from contextlib import closing\n",
    "from requests.exceptions import RequestException\n",
    "import string\n",
    "import operator\n",
    "\n",
    "\n",
    "def countWords(words):\n",
    "    # TODO \n",
    "    \n",
    "def getWords(text):\n",
    "    text = text.decode(\"utf-8\")\n",
    "    return list(filter(lambda word : len(word)>=4, \n",
    "                       map(lambda word : word.translate(word.maketrans({key: None for key in string.punctuation}))\n",
    "                           .lower(), \n",
    "                           text.split())))\n",
    "    \n",
    "def simple_get(url):\n",
    "    try:\n",
    "        with closing(get(url, stream=True)) as resp:\n",
    "            return resp.content\n",
    "            \n",
    "    except RequestException as e:\n",
    "        log_error('Error during requests to {0} : {1}'.format(url, str(e)))\n",
    "        return None\n",
    "\n",
    "\n",
    "words = getWords(simple_get(\"https://wolnelektury.pl/media/book/txt/pan-tadeusz.txt\"))\n",
    "countWords(words)"
   ]
  },
  {
   "cell_type": "code",
   "execution_count": null,
   "metadata": {},
   "outputs": [],
   "source": []
  }
 ],
 "metadata": {
  "kernelspec": {
   "display_name": "Python 3",
   "language": "python",
   "name": "python3"
  },
  "language_info": {
   "codemirror_mode": {
    "name": "ipython",
    "version": 3
   },
   "file_extension": ".py",
   "mimetype": "text/x-python",
   "name": "python",
   "nbconvert_exporter": "python",
   "pygments_lexer": "ipython3",
   "version": "3.7.1"
  }
 },
 "nbformat": 4,
 "nbformat_minor": 2
}
